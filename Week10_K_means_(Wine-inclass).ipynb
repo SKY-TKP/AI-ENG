{
  "nbformat": 4,
  "nbformat_minor": 0,
  "metadata": {
    "colab": {
      "provenance": []
    },
    "kernelspec": {
      "name": "python3",
      "display_name": "Python 3"
    }
  },
  "cells": [
    {
      "cell_type": "markdown",
      "metadata": {
        "id": "qHsqdvCunkZw"
      },
      "source": [
        "# K-Means on Wine\n",
        "\n",
        "## In class\n",
        "\n",
        "1. Try to understand the notebook first, then ...\n",
        "2. Apply K-means on your own dataset\n",
        "\n",
        "  - Pick from any where, or use one in https://scikit-learn.org/stable/datasets/index.html\n",
        "  - Describe the dataset you pick\n",
        "\n",
        "3. Find the right \"K\" (try to justify your decision)\n",
        "4. Report the results (make it short)\n",
        "\n",
        "**Write a report as a PDF (including screen shots if needed).**\n",
        "\n"
      ]
    },
    {
      "cell_type": "markdown",
      "metadata": {
        "id": "_eAkFvuaptXn"
      },
      "source": [
        "## Load the wine dataset"
      ]
    },
    {
      "cell_type": "code",
      "metadata": {
        "id": "huOy_yjEf5r9",
        "colab": {
          "base_uri": "https://localhost:8080/",
          "height": 206
        },
        "outputId": "efd18c3d-305a-41c4-f789-af6fa04609e6"
      },
      "source": [
        "import pandas as pd\n",
        "import numpy as np\n",
        "import matplotlib.pyplot as plt\n",
        "%matplotlib inline\n",
        "from sklearn.cluster import KMeans\n",
        "\n",
        "# Wine data\n",
        "# 178 samples with 3 distinct varieties of red wine: Barolo, Grignolino and Barbera\n",
        "# Features measure chemical composition e.g. alcohol content\n",
        "# https://archive.ics.uci.edu/ml/datasets/Wine\n",
        "url = 'https://raw.githubusercontent.com/wichadak/wine/master/wine.data'\n",
        "df = pd.read_csv(url, header=None)\n",
        "df.sample(frac=1).head()"
      ],
      "execution_count": null,
      "outputs": [
        {
          "output_type": "execute_result",
          "data": {
            "text/plain": [
              "     0      1     2     3     4    5     6     7     8     9     10    11  \\\n",
              "31    1  13.58  1.66  2.36  19.1  106  2.86  3.19  0.22  1.95  6.90  1.09   \n",
              "55    1  13.56  1.73  2.46  20.5  116  2.96  2.78  0.20  2.45  6.25  0.98   \n",
              "76    2  13.03  0.90  1.71  16.0   86  1.95  2.03  0.24  1.46  4.60  1.19   \n",
              "129   2  12.04  4.30  2.38  22.0   80  2.10  1.75  0.42  1.35  2.60  0.79   \n",
              "121   2  11.56  2.05  3.23  28.5  119  3.18  5.08  0.47  1.87  6.00  0.93   \n",
              "\n",
              "       12    13  \n",
              "31   2.88  1515  \n",
              "55   3.03  1120  \n",
              "76   2.48   392  \n",
              "129  2.57   580  \n",
              "121  3.69   465  "
            ],
            "text/html": [
              "\n",
              "  <div id=\"df-bbe32351-242f-416a-ae94-2faf2d94f20c\">\n",
              "    <div class=\"colab-df-container\">\n",
              "      <div>\n",
              "<style scoped>\n",
              "    .dataframe tbody tr th:only-of-type {\n",
              "        vertical-align: middle;\n",
              "    }\n",
              "\n",
              "    .dataframe tbody tr th {\n",
              "        vertical-align: top;\n",
              "    }\n",
              "\n",
              "    .dataframe thead th {\n",
              "        text-align: right;\n",
              "    }\n",
              "</style>\n",
              "<table border=\"1\" class=\"dataframe\">\n",
              "  <thead>\n",
              "    <tr style=\"text-align: right;\">\n",
              "      <th></th>\n",
              "      <th>0</th>\n",
              "      <th>1</th>\n",
              "      <th>2</th>\n",
              "      <th>3</th>\n",
              "      <th>4</th>\n",
              "      <th>5</th>\n",
              "      <th>6</th>\n",
              "      <th>7</th>\n",
              "      <th>8</th>\n",
              "      <th>9</th>\n",
              "      <th>10</th>\n",
              "      <th>11</th>\n",
              "      <th>12</th>\n",
              "      <th>13</th>\n",
              "    </tr>\n",
              "  </thead>\n",
              "  <tbody>\n",
              "    <tr>\n",
              "      <th>31</th>\n",
              "      <td>1</td>\n",
              "      <td>13.58</td>\n",
              "      <td>1.66</td>\n",
              "      <td>2.36</td>\n",
              "      <td>19.1</td>\n",
              "      <td>106</td>\n",
              "      <td>2.86</td>\n",
              "      <td>3.19</td>\n",
              "      <td>0.22</td>\n",
              "      <td>1.95</td>\n",
              "      <td>6.90</td>\n",
              "      <td>1.09</td>\n",
              "      <td>2.88</td>\n",
              "      <td>1515</td>\n",
              "    </tr>\n",
              "    <tr>\n",
              "      <th>55</th>\n",
              "      <td>1</td>\n",
              "      <td>13.56</td>\n",
              "      <td>1.73</td>\n",
              "      <td>2.46</td>\n",
              "      <td>20.5</td>\n",
              "      <td>116</td>\n",
              "      <td>2.96</td>\n",
              "      <td>2.78</td>\n",
              "      <td>0.20</td>\n",
              "      <td>2.45</td>\n",
              "      <td>6.25</td>\n",
              "      <td>0.98</td>\n",
              "      <td>3.03</td>\n",
              "      <td>1120</td>\n",
              "    </tr>\n",
              "    <tr>\n",
              "      <th>76</th>\n",
              "      <td>2</td>\n",
              "      <td>13.03</td>\n",
              "      <td>0.90</td>\n",
              "      <td>1.71</td>\n",
              "      <td>16.0</td>\n",
              "      <td>86</td>\n",
              "      <td>1.95</td>\n",
              "      <td>2.03</td>\n",
              "      <td>0.24</td>\n",
              "      <td>1.46</td>\n",
              "      <td>4.60</td>\n",
              "      <td>1.19</td>\n",
              "      <td>2.48</td>\n",
              "      <td>392</td>\n",
              "    </tr>\n",
              "    <tr>\n",
              "      <th>129</th>\n",
              "      <td>2</td>\n",
              "      <td>12.04</td>\n",
              "      <td>4.30</td>\n",
              "      <td>2.38</td>\n",
              "      <td>22.0</td>\n",
              "      <td>80</td>\n",
              "      <td>2.10</td>\n",
              "      <td>1.75</td>\n",
              "      <td>0.42</td>\n",
              "      <td>1.35</td>\n",
              "      <td>2.60</td>\n",
              "      <td>0.79</td>\n",
              "      <td>2.57</td>\n",
              "      <td>580</td>\n",
              "    </tr>\n",
              "    <tr>\n",
              "      <th>121</th>\n",
              "      <td>2</td>\n",
              "      <td>11.56</td>\n",
              "      <td>2.05</td>\n",
              "      <td>3.23</td>\n",
              "      <td>28.5</td>\n",
              "      <td>119</td>\n",
              "      <td>3.18</td>\n",
              "      <td>5.08</td>\n",
              "      <td>0.47</td>\n",
              "      <td>1.87</td>\n",
              "      <td>6.00</td>\n",
              "      <td>0.93</td>\n",
              "      <td>3.69</td>\n",
              "      <td>465</td>\n",
              "    </tr>\n",
              "  </tbody>\n",
              "</table>\n",
              "</div>\n",
              "      <button class=\"colab-df-convert\" onclick=\"convertToInteractive('df-bbe32351-242f-416a-ae94-2faf2d94f20c')\"\n",
              "              title=\"Convert this dataframe to an interactive table.\"\n",
              "              style=\"display:none;\">\n",
              "        \n",
              "  <svg xmlns=\"http://www.w3.org/2000/svg\" height=\"24px\"viewBox=\"0 0 24 24\"\n",
              "       width=\"24px\">\n",
              "    <path d=\"M0 0h24v24H0V0z\" fill=\"none\"/>\n",
              "    <path d=\"M18.56 5.44l.94 2.06.94-2.06 2.06-.94-2.06-.94-.94-2.06-.94 2.06-2.06.94zm-11 1L8.5 8.5l.94-2.06 2.06-.94-2.06-.94L8.5 2.5l-.94 2.06-2.06.94zm10 10l.94 2.06.94-2.06 2.06-.94-2.06-.94-.94-2.06-.94 2.06-2.06.94z\"/><path d=\"M17.41 7.96l-1.37-1.37c-.4-.4-.92-.59-1.43-.59-.52 0-1.04.2-1.43.59L10.3 9.45l-7.72 7.72c-.78.78-.78 2.05 0 2.83L4 21.41c.39.39.9.59 1.41.59.51 0 1.02-.2 1.41-.59l7.78-7.78 2.81-2.81c.8-.78.8-2.07 0-2.86zM5.41 20L4 18.59l7.72-7.72 1.47 1.35L5.41 20z\"/>\n",
              "  </svg>\n",
              "      </button>\n",
              "      \n",
              "  <style>\n",
              "    .colab-df-container {\n",
              "      display:flex;\n",
              "      flex-wrap:wrap;\n",
              "      gap: 12px;\n",
              "    }\n",
              "\n",
              "    .colab-df-convert {\n",
              "      background-color: #E8F0FE;\n",
              "      border: none;\n",
              "      border-radius: 50%;\n",
              "      cursor: pointer;\n",
              "      display: none;\n",
              "      fill: #1967D2;\n",
              "      height: 32px;\n",
              "      padding: 0 0 0 0;\n",
              "      width: 32px;\n",
              "    }\n",
              "\n",
              "    .colab-df-convert:hover {\n",
              "      background-color: #E2EBFA;\n",
              "      box-shadow: 0px 1px 2px rgba(60, 64, 67, 0.3), 0px 1px 3px 1px rgba(60, 64, 67, 0.15);\n",
              "      fill: #174EA6;\n",
              "    }\n",
              "\n",
              "    [theme=dark] .colab-df-convert {\n",
              "      background-color: #3B4455;\n",
              "      fill: #D2E3FC;\n",
              "    }\n",
              "\n",
              "    [theme=dark] .colab-df-convert:hover {\n",
              "      background-color: #434B5C;\n",
              "      box-shadow: 0px 1px 3px 1px rgba(0, 0, 0, 0.15);\n",
              "      filter: drop-shadow(0px 1px 2px rgba(0, 0, 0, 0.3));\n",
              "      fill: #FFFFFF;\n",
              "    }\n",
              "  </style>\n",
              "\n",
              "      <script>\n",
              "        const buttonEl =\n",
              "          document.querySelector('#df-bbe32351-242f-416a-ae94-2faf2d94f20c button.colab-df-convert');\n",
              "        buttonEl.style.display =\n",
              "          google.colab.kernel.accessAllowed ? 'block' : 'none';\n",
              "\n",
              "        async function convertToInteractive(key) {\n",
              "          const element = document.querySelector('#df-bbe32351-242f-416a-ae94-2faf2d94f20c');\n",
              "          const dataTable =\n",
              "            await google.colab.kernel.invokeFunction('convertToInteractive',\n",
              "                                                     [key], {});\n",
              "          if (!dataTable) return;\n",
              "\n",
              "          const docLinkHtml = 'Like what you see? Visit the ' +\n",
              "            '<a target=\"_blank\" href=https://colab.research.google.com/notebooks/data_table.ipynb>data table notebook</a>'\n",
              "            + ' to learn more about interactive tables.';\n",
              "          element.innerHTML = '';\n",
              "          dataTable['output_type'] = 'display_data';\n",
              "          await google.colab.output.renderOutput(dataTable, element);\n",
              "          const docLink = document.createElement('div');\n",
              "          docLink.innerHTML = docLinkHtml;\n",
              "          element.appendChild(docLink);\n",
              "        }\n",
              "      </script>\n",
              "    </div>\n",
              "  </div>\n",
              "  "
            ]
          },
          "metadata": {},
          "execution_count": 1
        }
      ]
    },
    {
      "cell_type": "code",
      "metadata": {
        "id": "ZtBFFRzEpD6L",
        "colab": {
          "base_uri": "https://localhost:8080/"
        },
        "outputId": "be0266b2-7ff5-450d-9f85-54b7d39686ca"
      },
      "source": [
        "X = df[df.columns[1:]].to_numpy(dtype=np.float32)\n",
        "y = df[df.columns[0]].to_numpy()\n",
        "print('X:', X.shape, X.dtype)\n",
        "print('y:', y.shape, y.dtype)"
      ],
      "execution_count": null,
      "outputs": [
        {
          "output_type": "stream",
          "name": "stdout",
          "text": [
            "X: (178, 13) float32\n",
            "y: (178,) int64\n"
          ]
        }
      ]
    },
    {
      "cell_type": "markdown",
      "metadata": {
        "id": "-Naad49npyka"
      },
      "source": [
        "## Cluster it!"
      ]
    },
    {
      "cell_type": "code",
      "metadata": {
        "id": "_XyQswhFp0Jk",
        "colab": {
          "base_uri": "https://localhost:8080/"
        },
        "outputId": "ed002791-97fa-442f-9c78-9498c47edadb"
      },
      "source": [
        "from sklearn.cluster import KMeans\n",
        "# again we know that it has 3 classes\n",
        "model = KMeans(n_clusters=3)\n",
        "model.fit(X)\n",
        "y_pred = model.predict(X)\n",
        "print(y_pred.shape)"
      ],
      "execution_count": null,
      "outputs": [
        {
          "output_type": "stream",
          "name": "stderr",
          "text": [
            "/usr/local/lib/python3.9/dist-packages/sklearn/cluster/_kmeans.py:870: FutureWarning: The default value of `n_init` will change from 10 to 'auto' in 1.4. Set the value of `n_init` explicitly to suppress the warning\n",
            "  warnings.warn(\n"
          ]
        },
        {
          "output_type": "stream",
          "name": "stdout",
          "text": [
            "(178,)\n"
          ]
        }
      ]
    },
    {
      "cell_type": "markdown",
      "metadata": {
        "id": "8gx7qmwCtDK8"
      },
      "source": [
        "### Assesing the clustering quality\n",
        "\n",
        "If we have ground truth labels, we can use a method called \"Adjusted Rand Index\" (best = 1, worst ~ 0 or -1).\n",
        "\n",
        "Read more: https://scikit-learn.org/stable/modules/clustering.html#adjusted-rand-index"
      ]
    },
    {
      "cell_type": "code",
      "metadata": {
        "id": "j9DQWC1wp0QX",
        "colab": {
          "base_uri": "https://localhost:8080/"
        },
        "outputId": "d4d8c064-f808-4d53-dff4-238261b75e57"
      },
      "source": [
        "from sklearn import metrics\n",
        "print('ARI:', metrics.adjusted_rand_score(y, y_pred))"
      ],
      "execution_count": null,
      "outputs": [
        {
          "output_type": "stream",
          "name": "stdout",
          "text": [
            "ARI: 0.37111371823084754\n"
          ]
        }
      ]
    },
    {
      "cell_type": "markdown",
      "metadata": {
        "id": "Xyf0oqgDtdjF"
      },
      "source": [
        "### Better clustering quality with input normalization\n",
        "\n",
        "Because K-means make assumption that features should have equal variances.\n",
        "\n",
        "We should standardize the input before clustering.\n",
        "\n",
        "Read more: https://scikit-learn.org/stable/modules/generated/sklearn.preprocessing.StandardScaler.html"
      ]
    },
    {
      "cell_type": "code",
      "metadata": {
        "id": "4iBddjDcp0cr",
        "colab": {
          "base_uri": "https://localhost:8080/"
        },
        "outputId": "b3ad4f06-379f-4b3a-f8ba-e815b6a98429"
      },
      "source": [
        "from sklearn import metrics\n",
        "\n",
        "from sklearn.cluster import KMeans\n",
        "from sklearn.preprocessing import StandardScaler\n",
        "scaler = StandardScaler(with_mean=True, with_std=True)\n",
        "_X = scaler.fit_transform(X)\n",
        "print('before mean and sd:', X[:,0].mean(), X[:,0].std())\n",
        "print('after mean and sd:', _X[:,0].mean(), _X[:,0].std())\n",
        "\n",
        "model = KMeans(n_clusters=3)\n",
        "# using the normalized X\n",
        "model.fit(_X)\n",
        "y_pred = model.predict(_X)\n",
        "print('ARI after normalized:', metrics.adjusted_rand_score(y, y_pred))"
      ],
      "execution_count": null,
      "outputs": [
        {
          "output_type": "stream",
          "name": "stdout",
          "text": [
            "before mean and sd: 13.000619 0.8095429\n",
            "after mean and sd: -2.1430884e-08 1.0\n"
          ]
        },
        {
          "output_type": "stream",
          "name": "stderr",
          "text": [
            "/usr/local/lib/python3.9/dist-packages/sklearn/cluster/_kmeans.py:870: FutureWarning: The default value of `n_init` will change from 10 to 'auto' in 1.4. Set the value of `n_init` explicitly to suppress the warning\n",
            "  warnings.warn(\n"
          ]
        },
        {
          "output_type": "stream",
          "name": "stdout",
          "text": [
            "ARI after normalized: 0.8974949815093207\n"
          ]
        }
      ]
    },
    {
      "cell_type": "markdown",
      "metadata": {
        "id": "VJhVxG3jwDqC"
      },
      "source": [
        "#### Don't even need to zero the mean"
      ]
    },
    {
      "cell_type": "code",
      "metadata": {
        "id": "dPiL3KJqs5ta",
        "colab": {
          "base_uri": "https://localhost:8080/"
        },
        "outputId": "5f3acf7c-ece2-48af-faca-9c29668a948c"
      },
      "source": [
        "# don't even need to zero the mean!\n",
        "scaler = StandardScaler(with_mean=False, with_std=True)\n",
        "_X = scaler.fit_transform(X)\n",
        "print('before mean and sd:', X[:,0].mean(), X[:,0].std())\n",
        "print('after mean and sd:', _X[:,0].mean(), _X[:,0].std())\n",
        "\n",
        "model = KMeans(n_clusters=3)\n",
        "# using the normalized X\n",
        "model.fit(_X)\n",
        "y_pred = model.predict(_X)\n",
        "print('ARI after normalized:', metrics.adjusted_rand_score(y, y_pred))"
      ],
      "execution_count": null,
      "outputs": [
        {
          "output_type": "stream",
          "name": "stdout",
          "text": [
            "before mean and sd: 13.000619 0.8095429\n",
            "after mean and sd: 16.059208 0.99999994\n",
            "ARI after normalized: 0.8974949815093207\n"
          ]
        }
      ]
    },
    {
      "cell_type": "markdown",
      "metadata": {
        "id": "cBHrKyd-wSUq"
      },
      "source": [
        "### Wrap as a pipeline"
      ]
    },
    {
      "cell_type": "code",
      "metadata": {
        "id": "v2s0X0X4k-rY",
        "colab": {
          "base_uri": "https://localhost:8080/"
        },
        "outputId": "8c738535-d1d4-4fa1-9ae3-1dd8448fcac9"
      },
      "source": [
        "# Pipelines combine multiple steps ** Wrap up the above as a pipeline\n",
        "from sklearn.preprocessing import StandardScaler # MaxAbsScaler and Normalizer are other examples\n",
        "from sklearn.cluster import KMeans\n",
        "from sklearn.pipeline import make_pipeline\n",
        "\n",
        "scaler = StandardScaler()\n",
        "kmeans = KMeans(n_clusters=3)\n",
        "pipeline = make_pipeline(scaler, kmeans)\n",
        "pipeline.fit(X)\n",
        "y_pred = pipeline.predict(X)\n",
        "print('ARI:', metrics.adjusted_rand_score(y, y_pred))"
      ],
      "execution_count": null,
      "outputs": [
        {
          "output_type": "stream",
          "name": "stdout",
          "text": [
            "ARI: 0.8974949815093207\n"
          ]
        }
      ]
    },
    {
      "cell_type": "markdown",
      "metadata": {
        "id": "grE0s1BewwpZ"
      },
      "source": [
        "# Selecting the \"K\" with Elbow method"
      ]
    },
    {
      "cell_type": "code",
      "metadata": {
        "id": "mDG8ZFU90z8t",
        "colab": {
          "base_uri": "https://localhost:8080/"
        },
        "outputId": "f22ecc2d-4b39-4376-d2be-0d976d0692c2"
      },
      "source": [
        "from tqdm import tqdm\n",
        "# Run K-means for a set of k\n",
        "distortions = []\n",
        "models = []\n",
        "K = range(1,10+1)\n",
        "for k in tqdm(K):\n",
        "    model = KMeans(n_clusters=k)\n",
        "    model.fit(X)\n",
        "    models.append(model)\n",
        "    distortions.append(model.inertia_)"
      ],
      "execution_count": null,
      "outputs": [
        {
          "output_type": "stream",
          "name": "stderr",
          "text": [
            "100%|██████████| 10/10 [00:00<00:00, 21.23it/s]\n"
          ]
        }
      ]
    },
    {
      "cell_type": "code",
      "metadata": {
        "id": "qjvv0Mwy1RHB",
        "colab": {
          "base_uri": "https://localhost:8080/",
          "height": 513
        },
        "outputId": "1c5e34a9-caef-4f0c-904c-6a57a750f8eb"
      },
      "source": [
        "#Plotting the distortions of K-Means\n",
        "plt.figure(figsize=(16,8))\n",
        "plt.plot(K, distortions, 'bx-')\n",
        "plt.xlabel('k')\n",
        "plt.ylabel('Distortion')\n",
        "plt.title('The Elbow Method showing the optimal k')\n",
        "plt.show()"
      ],
      "execution_count": null,
      "outputs": [
        {
          "output_type": "display_data",
          "data": {
            "image/png": "[encoded data removed]",
            "text/plain": [
              "<Figure size 1152x576 with 1 Axes>"
            ]
          },
          "metadata": {
            "needs_background": "light"
          }
        }
      ]
    }
  ]
}
