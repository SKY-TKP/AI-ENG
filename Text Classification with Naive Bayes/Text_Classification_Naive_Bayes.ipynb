{
  "nbformat": 4,
  "nbformat_minor": 0,
  "metadata": {
    "colab": {
      "provenance": []
    },
    "kernelspec": {
      "name": "python3",
      "display_name": "Python 3"
    }
  },
  "cells": [
    {
      "cell_type": "markdown",
      "metadata": {
        "id": "8x9pzGWoeRvX"
      },
      "source": [
        "#Download file first"
      ]
    },
    {
      "cell_type": "code",
      "metadata": {
        "id": "5CFtRBh2d_EZ",
        "colab": {
          "base_uri": "https://localhost:8080/"
        },
        "outputId": "73a09244-6010-4d18-aaa3-b6faae203c79"
      },
      "source": [
        "! gdown https://drive.google.com/uc?id=1F3Zsb6zEdu-yKyrHi3RzpCm9g3M6Vmr5"
      ],
      "execution_count": null,
      "outputs": [
        {
          "output_type": "stream",
          "name": "stdout",
          "text": [
            "Downloading...\n",
            "From: https://drive.google.com/uc?id=1F3Zsb6zEdu-yKyrHi3RzpCm9g3M6Vmr5\n",
            "To: /content/text_data.csv\n",
            "\r  0% 0.00/2.51M [00:00<?, ?B/s]\r 84% 2.10M/2.51M [00:00<00:00, 20.0MB/s]\r100% 2.51M/2.51M [00:00<00:00, 23.2MB/s]\n"
          ]
        }
      ]
    },
    {
      "cell_type": "markdown",
      "metadata": {
        "id": "DxUf0AoUeYKX"
      },
      "source": [
        "#Read Data"
      ]
    },
    {
      "cell_type": "code",
      "metadata": {
        "id": "mIQIUWPzFJR_"
      },
      "source": [
        "import pandas as pd\n",
        "\n",
        "df=pd.read_csv('text_data.csv')\n",
        "df.dropna(inplace=True)"
      ],
      "execution_count": null,
      "outputs": []
    },
    {
      "cell_type": "code",
      "metadata": {
        "id": "o84RVxA8DIhR",
        "colab": {
          "base_uri": "https://localhost:8080/",
          "height": 423
        },
        "outputId": "bd74bcca-71a4-4ef5-a1e4-e852e64db2fe"
      },
      "source": [
        "df"
      ],
      "execution_count": null,
      "outputs": [
        {
          "output_type": "execute_result",
          "data": {
            "text/plain": [
              "                                                message             class\n",
              "0               อย่า โกรธ แม่ ขาย 😭😭 ดู ย้อนหลัง ที่นี่   CH3Thailand.csv\n",
              "1      แอคชั่น เต็ม แถม ซึ้ง ฉาก หวาน ดู เบื้องหลัง ...   CH3Thailand.csv\n",
              "2      ร้องไห้ ไหว ทด กลายเป็น ทาส เด็ก ดู ย้อนหลัง ...   CH3Thailand.csv\n",
              "3      รื้อ กระเป๋า เผ่า ส่อง  ไอเทม เด็ด ดู ติดตาม ...   CH3Thailand.csv\n",
              "4      มีความผิด ที่จะ โดน เฆี่ยน ทด ใจเด็ด  ดู ย้อน...   CH3Thailand.csv\n",
              "...                                                 ...               ...\n",
              "4550   คุ้ม คุ้ม คุ้ม แบ่งปัน ส่วนลด โปรโมชั่น บัตรเ...  punpromotion.csv\n",
              "4551   Mo-Mo Paradise กิน อั้น ชาบู ชาบู สุกี้ สไตล์...  punpromotion.csv\n",
              "4552    บัตรเครดิต ส่วนลด ไม่ต้อง เสียใจ ปัน โปร >> ...  punpromotion.csv\n",
              "4553           เบื่อ ไหม พลาด ส่วนลด บัตรเครดิต ปัน โปร  punpromotion.csv\n",
              "4554   แบ่งปัน ส่วนลด โปรโมชั่น บัตรเครดิต ร้านอาหาร...  punpromotion.csv\n",
              "\n",
              "[4554 rows x 2 columns]"
            ],
            "text/html": [
              "\n",
              "  <div id=\"df-f32eed8e-d403-4eb4-9e4f-76f5cebd6d56\" class=\"colab-df-container\">\n",
              "    <div>\n",
              "<style scoped>\n",
              "    .dataframe tbody tr th:only-of-type {\n",
              "        vertical-align: middle;\n",
              "    }\n",
              "\n",
              "    .dataframe tbody tr th {\n",
              "        vertical-align: top;\n",
              "    }\n",
              "\n",
              "    .dataframe thead th {\n",
              "        text-align: right;\n",
              "    }\n",
              "</style>\n",
              "<table border=\"1\" class=\"dataframe\">\n",
              "  <thead>\n",
              "    <tr style=\"text-align: right;\">\n",
              "      <th></th>\n",
              "      <th>message</th>\n",
              "      <th>class</th>\n",
              "    </tr>\n",
              "  </thead>\n",
              "  <tbody>\n",
              "    <tr>\n",
              "      <th>0</th>\n",
              "      <td>อย่า โกรธ แม่ ขาย 😭😭 ดู ย้อนหลัง ที่นี่</td>\n",
              "      <td>CH3Thailand.csv</td>\n",
              "    </tr>\n",
              "    <tr>\n",
              "      <th>1</th>\n",
              "      <td>แอคชั่น เต็ม แถม ซึ้ง ฉาก หวาน ดู เบื้องหลัง ...</td>\n",
              "      <td>CH3Thailand.csv</td>\n",
              "    </tr>\n",
              "    <tr>\n",
              "      <th>2</th>\n",
              "      <td>ร้องไห้ ไหว ทด กลายเป็น ทาส เด็ก ดู ย้อนหลัง ...</td>\n",
              "      <td>CH3Thailand.csv</td>\n",
              "    </tr>\n",
              "    <tr>\n",
              "      <th>3</th>\n",
              "      <td>รื้อ กระเป๋า เผ่า ส่อง  ไอเทม เด็ด ดู ติดตาม ...</td>\n",
              "      <td>CH3Thailand.csv</td>\n",
              "    </tr>\n",
              "    <tr>\n",
              "      <th>4</th>\n",
              "      <td>มีความผิด ที่จะ โดน เฆี่ยน ทด ใจเด็ด  ดู ย้อน...</td>\n",
              "      <td>CH3Thailand.csv</td>\n",
              "    </tr>\n",
              "    <tr>\n",
              "      <th>...</th>\n",
              "      <td>...</td>\n",
              "      <td>...</td>\n",
              "    </tr>\n",
              "    <tr>\n",
              "      <th>4550</th>\n",
              "      <td>คุ้ม คุ้ม คุ้ม แบ่งปัน ส่วนลด โปรโมชั่น บัตรเ...</td>\n",
              "      <td>punpromotion.csv</td>\n",
              "    </tr>\n",
              "    <tr>\n",
              "      <th>4551</th>\n",
              "      <td>Mo-Mo Paradise กิน อั้น ชาบู ชาบู สุกี้ สไตล์...</td>\n",
              "      <td>punpromotion.csv</td>\n",
              "    </tr>\n",
              "    <tr>\n",
              "      <th>4552</th>\n",
              "      <td>บัตรเครดิต ส่วนลด ไม่ต้อง เสียใจ ปัน โปร &gt;&gt; ...</td>\n",
              "      <td>punpromotion.csv</td>\n",
              "    </tr>\n",
              "    <tr>\n",
              "      <th>4553</th>\n",
              "      <td>เบื่อ ไหม พลาด ส่วนลด บัตรเครดิต ปัน โปร</td>\n",
              "      <td>punpromotion.csv</td>\n",
              "    </tr>\n",
              "    <tr>\n",
              "      <th>4554</th>\n",
              "      <td>แบ่งปัน ส่วนลด โปรโมชั่น บัตรเครดิต ร้านอาหาร...</td>\n",
              "      <td>punpromotion.csv</td>\n",
              "    </tr>\n",
              "  </tbody>\n",
              "</table>\n",
              "<p>4554 rows × 2 columns</p>\n",
              "</div>\n",
              "    <div class=\"colab-df-buttons\">\n",
              "\n",
              "  <div class=\"colab-df-container\">\n",
              "    <button class=\"colab-df-convert\" onclick=\"convertToInteractive('df-f32eed8e-d403-4eb4-9e4f-76f5cebd6d56')\"\n",
              "            title=\"Convert this dataframe to an interactive table.\"\n",
              "            style=\"display:none;\">\n",
              "\n",
              "  <svg xmlns=\"http://www.w3.org/2000/svg\" height=\"24px\" viewBox=\"0 -960 960 960\">\n",
              "    <path d=\"M120-120v-720h720v720H120Zm60-500h600v-160H180v160Zm220 220h160v-160H400v160Zm0 220h160v-160H400v160ZM180-400h160v-160H180v160Zm440 0h160v-160H620v160ZM180-180h160v-160H180v160Zm440 0h160v-160H620v160Z\"/>\n",
              "  </svg>\n",
              "    </button>\n",
              "\n",
              "  <style>\n",
              "    .colab-df-container {\n",
              "      display:flex;\n",
              "      gap: 12px;\n",
              "    }\n",
              "\n",
              "    .colab-df-convert {\n",
              "      background-color: #E8F0FE;\n",
              "      border: none;\n",
              "      border-radius: 50%;\n",
              "      cursor: pointer;\n",
              "      display: none;\n",
              "      fill: #1967D2;\n",
              "      height: 32px;\n",
              "      padding: 0 0 0 0;\n",
              "      width: 32px;\n",
              "    }\n",
              "\n",
              "    .colab-df-convert:hover {\n",
              "      background-color: #E2EBFA;\n",
              "      box-shadow: 0px 1px 2px rgba(60, 64, 67, 0.3), 0px 1px 3px 1px rgba(60, 64, 67, 0.15);\n",
              "      fill: #174EA6;\n",
              "    }\n",
              "\n",
              "    .colab-df-buttons div {\n",
              "      margin-bottom: 4px;\n",
              "    }\n",
              "\n",
              "    [theme=dark] .colab-df-convert {\n",
              "      background-color: #3B4455;\n",
              "      fill: #D2E3FC;\n",
              "    }\n",
              "\n",
              "    [theme=dark] .colab-df-convert:hover {\n",
              "      background-color: #434B5C;\n",
              "      box-shadow: 0px 1px 3px 1px rgba(0, 0, 0, 0.15);\n",
              "      filter: drop-shadow(0px 1px 2px rgba(0, 0, 0, 0.3));\n",
              "      fill: #FFFFFF;\n",
              "    }\n",
              "  </style>\n",
              "\n",
              "    <script>\n",
              "      const buttonEl =\n",
              "        document.querySelector('#df-f32eed8e-d403-4eb4-9e4f-76f5cebd6d56 button.colab-df-convert');\n",
              "      buttonEl.style.display =\n",
              "        google.colab.kernel.accessAllowed ? 'block' : 'none';\n",
              "\n",
              "      async function convertToInteractive(key) {\n",
              "        const element = document.querySelector('#df-f32eed8e-d403-4eb4-9e4f-76f5cebd6d56');\n",
              "        const dataTable =\n",
              "          await google.colab.kernel.invokeFunction('convertToInteractive',\n",
              "                                                    [key], {});\n",
              "        if (!dataTable) return;\n",
              "\n",
              "        const docLinkHtml = 'Like what you see? Visit the ' +\n",
              "          '<a target=\"_blank\" href=https://colab.research.google.com/notebooks/data_table.ipynb>data table notebook</a>'\n",
              "          + ' to learn more about interactive tables.';\n",
              "        element.innerHTML = '';\n",
              "        dataTable['output_type'] = 'display_data';\n",
              "        await google.colab.output.renderOutput(dataTable, element);\n",
              "        const docLink = document.createElement('div');\n",
              "        docLink.innerHTML = docLinkHtml;\n",
              "        element.appendChild(docLink);\n",
              "      }\n",
              "    </script>\n",
              "  </div>\n",
              "\n",
              "\n",
              "<div id=\"df-441943b7-94b6-42d3-a080-c87c49f57c91\">\n",
              "  <button class=\"colab-df-quickchart\" onclick=\"quickchart('df-441943b7-94b6-42d3-a080-c87c49f57c91')\"\n",
              "            title=\"Suggest charts\"\n",
              "            style=\"display:none;\">\n",
              "\n",
              "<svg xmlns=\"http://www.w3.org/2000/svg\" height=\"24px\"viewBox=\"0 0 24 24\"\n",
              "     width=\"24px\">\n",
              "    <g>\n",
              "        <path d=\"M19 3H5c-1.1 0-2 .9-2 2v14c0 1.1.9 2 2 2h14c1.1 0 2-.9 2-2V5c0-1.1-.9-2-2-2zM9 17H7v-7h2v7zm4 0h-2V7h2v10zm4 0h-2v-4h2v4z\"/>\n",
              "    </g>\n",
              "</svg>\n",
              "  </button>\n",
              "\n",
              "<style>\n",
              "  .colab-df-quickchart {\n",
              "      --bg-color: #E8F0FE;\n",
              "      --fill-color: #1967D2;\n",
              "      --hover-bg-color: #E2EBFA;\n",
              "      --hover-fill-color: #174EA6;\n",
              "      --disabled-fill-color: #AAA;\n",
              "      --disabled-bg-color: #DDD;\n",
              "  }\n",
              "\n",
              "  [theme=dark] .colab-df-quickchart {\n",
              "      --bg-color: #3B4455;\n",
              "      --fill-color: #D2E3FC;\n",
              "      --hover-bg-color: #434B5C;\n",
              "      --hover-fill-color: #FFFFFF;\n",
              "      --disabled-bg-color: #3B4455;\n",
              "      --disabled-fill-color: #666;\n",
              "  }\n",
              "\n",
              "  .colab-df-quickchart {\n",
              "    background-color: var(--bg-color);\n",
              "    border: none;\n",
              "    border-radius: 50%;\n",
              "    cursor: pointer;\n",
              "    display: none;\n",
              "    fill: var(--fill-color);\n",
              "    height: 32px;\n",
              "    padding: 0;\n",
              "    width: 32px;\n",
              "  }\n",
              "\n",
              "  .colab-df-quickchart:hover {\n",
              "    background-color: var(--hover-bg-color);\n",
              "    box-shadow: 0 1px 2px rgba(60, 64, 67, 0.3), 0 1px 3px 1px rgba(60, 64, 67, 0.15);\n",
              "    fill: var(--button-hover-fill-color);\n",
              "  }\n",
              "\n",
              "  .colab-df-quickchart-complete:disabled,\n",
              "  .colab-df-quickchart-complete:disabled:hover {\n",
              "    background-color: var(--disabled-bg-color);\n",
              "    fill: var(--disabled-fill-color);\n",
              "    box-shadow: none;\n",
              "  }\n",
              "\n",
              "  .colab-df-spinner {\n",
              "    border: 2px solid var(--fill-color);\n",
              "    border-color: transparent;\n",
              "    border-bottom-color: var(--fill-color);\n",
              "    animation:\n",
              "      spin 1s steps(1) infinite;\n",
              "  }\n",
              "\n",
              "  @keyframes spin {\n",
              "    0% {\n",
              "      border-color: transparent;\n",
              "      border-bottom-color: var(--fill-color);\n",
              "      border-left-color: var(--fill-color);\n",
              "    }\n",
              "    20% {\n",
              "      border-color: transparent;\n",
              "      border-left-color: var(--fill-color);\n",
              "      border-top-color: var(--fill-color);\n",
              "    }\n",
              "    30% {\n",
              "      border-color: transparent;\n",
              "      border-left-color: var(--fill-color);\n",
              "      border-top-color: var(--fill-color);\n",
              "      border-right-color: var(--fill-color);\n",
              "    }\n",
              "    40% {\n",
              "      border-color: transparent;\n",
              "      border-right-color: var(--fill-color);\n",
              "      border-top-color: var(--fill-color);\n",
              "    }\n",
              "    60% {\n",
              "      border-color: transparent;\n",
              "      border-right-color: var(--fill-color);\n",
              "    }\n",
              "    80% {\n",
              "      border-color: transparent;\n",
              "      border-right-color: var(--fill-color);\n",
              "      border-bottom-color: var(--fill-color);\n",
              "    }\n",
              "    90% {\n",
              "      border-color: transparent;\n",
              "      border-bottom-color: var(--fill-color);\n",
              "    }\n",
              "  }\n",
              "</style>\n",
              "\n",
              "  <script>\n",
              "    async function quickchart(key) {\n",
              "      const quickchartButtonEl =\n",
              "        document.querySelector('#' + key + ' button');\n",
              "      quickchartButtonEl.disabled = true;  // To prevent multiple clicks.\n",
              "      quickchartButtonEl.classList.add('colab-df-spinner');\n",
              "      try {\n",
              "        const charts = await google.colab.kernel.invokeFunction(\n",
              "            'suggestCharts', [key], {});\n",
              "      } catch (error) {\n",
              "        console.error('Error during call to suggestCharts:', error);\n",
              "      }\n",
              "      quickchartButtonEl.classList.remove('colab-df-spinner');\n",
              "      quickchartButtonEl.classList.add('colab-df-quickchart-complete');\n",
              "    }\n",
              "    (() => {\n",
              "      let quickchartButtonEl =\n",
              "        document.querySelector('#df-441943b7-94b6-42d3-a080-c87c49f57c91 button');\n",
              "      quickchartButtonEl.style.display =\n",
              "        google.colab.kernel.accessAllowed ? 'block' : 'none';\n",
              "    })();\n",
              "  </script>\n",
              "</div>\n",
              "    </div>\n",
              "  </div>\n"
            ],
            "application/vnd.google.colaboratory.intrinsic+json": {
              "type": "dataframe",
              "variable_name": "df",
              "summary": "{\n  \"name\": \"df\",\n  \"rows\": 4554,\n  \"fields\": [\n    {\n      \"column\": \"message\",\n      \"properties\": {\n        \"dtype\": \"string\",\n        \"num_unique_values\": 4490,\n        \"samples\": [\n          \" \\u0e40\\u0e23\\u0e37\\u0e2d\\u0e19\\u0e2b\\u0e2d \\u0e2d\\u0e1a\\u0e2d\\u0e38\\u0e48\\u0e19 \\u201c\\u0e13\\u0e31\\u0e0f\\u0e10\\u0e4c \\u0e40\\u0e17\\u0e1e \\u0e2b\\u0e31\\u0e2a\\u0e14\\u0e34\\u0e19 \\u0e2f\\u201d \\u0e04\\u0e38\\u0e22 \\u0e40\\u0e23\\u0e37\\u0e48\\u0e2d\\u0e07\\u0e23\\u0e32\\u0e27 \\u0e2a\\u0e27\\u0e35\\u0e15  \\u0e15\\u0e34\\u0e14\\u0e15\\u0e32\\u0e21 \\u0e15\\u0e35\\u0e17\\u0e49\\u0e32\\u0e22\\u0e04\\u0e23\\u0e31\\u0e27 \\u0e40\\u0e27\\u0e25\\u0e32 14.15 \\u0e19. \\u0e0a\\u0e48\\u0e2d\\u0e07 33\",\n          \" \\ud83d\\udc71\\u200d\\u2640\\ufe0f Vistra \\u0e27\\u0e34\\u0e15\\u0e32\\u0e21\\u0e34\\u0e19 \\u0e15\\u0e31\\u0e27 \\u0e0a\\u0e34\\u0e49\\u0e19 \\u0e17\\u0e35\\u0e48\\u0e2a\\u0e2d\\u0e07 1. Watsons  \\u0e44\\u0e14\\u0e49\\u0e40\\u0e27\\u0e25\\u0e32 \\u0e14\\u0e39\\u0e41\\u0e25\\u0e15\\u0e31\\u0e27\\u0e40\\u0e2d\\u0e07 \\u0e27\\u0e27 \\u0e42\\u0e1b\\u0e23 \\u0e04\\u0e38\\u0e49\\u0e21 \\u0e23\\u0e35\\u0e1a \\u0e15\\u0e38\\u0e19 \\u0e14\\u0e48\\u0e27\\u0e19 \\u0e19\\u0e19~ \\u2764\\ufe0f  \\u0e02\\u0e49\\u0e2d \\u0e23\\u0e39\\u0e49 \\ud83d\\udc81\\u200d\\u2640\\ufe0f \\u0e14\\u0e39\\u0e41\\u0e25 \\u0e1c\\u0e34\\u0e27\\u0e1e\\u0e23\\u0e23\\u0e13 \\u0e2a\\u0e14\\u0e43\\u0e2a \\u0e14\\u0e39 \\u0e2d\\u0e48\\u0e2d\\u0e19\\u0e40\\u0e22\\u0e32\\u0e27\\u0e4c \\u0e40\\u0e2a\\u0e21\\u0e2d \\u0e15\\u0e31\\u0e27 Vistra Acerola Cherry \\u0e1b\\u0e49\\u0e2d\\u0e07\\u0e01\\u0e31\\u0e19 \\u0e2b\\u0e27\\u0e31\\u0e14 \\u0e20\\u0e39\\u0e21\\u0e34\\u0e41\\u0e1e\\u0e49 \\u0e1c\\u0e34\\u0e27 \\u0e2a\\u0e38\\u0e02\\u0e20\\u0e32\\u0e1e \\u0e23\\u0e32\\u0e04\\u0e32 \\u0e1b\\u0e01\\u0e15\\u0e34 259. \\u0e25\\u0e14\\u0e40\\u0e2b\\u0e25\\u0e37\\u0e2d 239. \\u0e0a\\u0e34\\u0e49\\u0e19 \\u0e17\\u0e35\\u0e48\\u0e2a\\u0e2d\\u0e07 1. \\u0e14\\u0e39\\u0e41\\u0e25 \\u0e2a\\u0e38\\u0e02\\u0e20\\u0e32\\u0e1e \\u0e15\\u0e31\\u0e27 \\u0e04\\u0e48\\u0e32 Vistra Salmon Fish Oil \\u0e19\\u0e49\\u0e33 \\u0e21\\u0e31\\u0e19\\u0e1b\\u0e25\\u0e32 \\u0e41\\u0e0b\\u0e25\\u0e21\\u0e2d\\u0e19 \\u0e44\\u0e2d\\u0e0b\\u0e4c\\u0e41\\u0e25\\u0e19\\u0e14\\u0e4c \\u0e01\\u0e32\\u0e23\\u0e31\\u0e19\\u0e15\\u0e35 \\u0e1b\\u0e31\\u0e07 \\u0e23\\u0e32\\u0e07\\u0e27\\u0e31\\u0e25 HWB award 2019 \\u0e2a\\u0e38\\u0e14\\u0e22\\u0e2d\\u0e14 \\u0e1c\\u0e25\\u0e34\\u0e15\\u0e20\\u0e31\\u0e13\\u0e11\\u0e4c \\u0e40\\u0e2a\\u0e23\\u0e34\\u0e21 \\u0e2d\\u0e32\\u0e2b\\u0e32\\u0e23 \\u0e19\\u0e49\\u0e33 \\u0e21\\u0e31\\u0e19\\u0e1b\\u0e25\\u0e32 \\u0e0a\\u0e48\\u0e27\\u0e22\\u0e14\\u0e39\\u0e41\\u0e25 \\u0e2a\\u0e21\\u0e2d\\u0e07 \\u0e40\\u0e2a\\u0e23\\u0e34\\u0e21\\u0e2a\\u0e23\\u0e49\\u0e32\\u0e07 \\u0e04\\u0e27\\u0e32\\u0e21\\u0e08\\u0e33 \\u0e25\\u0e14 \\u0e23\\u0e30\\u0e14\\u0e31\\u0e1a \\u0e44\\u0e15\\u0e23\\u0e01\\u0e25\\u0e35\\u0e40\\u0e0b\\u0e2d\\u0e44\\u0e23\\u0e14\\u0e4c \\u0e23\\u0e30\\u0e14\\u0e31\\u0e1a \\u0e44\\u0e02\\u0e21\\u0e31\\u0e19 \\u0e40\\u0e25\\u0e37\\u0e2d\\u0e14 \\u0e23\\u0e32\\u0e04\\u0e32 \\u0e1b\\u0e01\\u0e15\\u0e34 210. \\u0e25\\u0e14\\u0e40\\u0e2b\\u0e25\\u0e37\\u0e2d 209. \\u0e0a\\u0e34\\u0e49\\u0e19 \\u0e17\\u0e35\\u0e48\\u0e2a\\u0e2d\\u0e07 1.   \\u0e22\\u0e31\\u0e07\\u0e21\\u0e35 \\u0e04\\u0e2d\\u0e25\\u0e25\\u0e32\\u0e40\\u0e08\\u0e19 \\u0e27\\u0e34\\u0e15\\u0e32\\u0e21\\u0e34\\u0e19 \\u0e0b\\u0e35 \\u0e27\\u0e34\\u0e15\\u0e32\\u0e21\\u0e34\\u0e19 \\u0e1a\\u0e33\\u0e23\\u0e38\\u0e07 \\u0e23\\u0e48\\u0e32\\u0e07\\u0e01\\u0e32\\u0e22 \\u0e42\\u0e1b\\u0e23 \\u0e0a\\u0e34\\u0e49\\u0e19 \\u0e17\\u0e35\\u0e48\\u0e2a\\u0e2d\\u0e07 1. \\u0e15\\u0e38\\u0e19 \\u0e19\\u0e30\\u0e04\\u0e30 \\u0e0b\\u0e34 \\u0e2a!     25 \\u0e01.\\u0e22. 62  Watsons \\u0e2a\\u0e32\\u0e02\\u0e32\",\n          \"  \\u0e40\\u0e1b\\u0e47\\u0e19\\u0e40\\u0e1e\\u0e37\\u0e48\\u0e2d\\u0e19 \\u0e25\\u0e48\\u0e30 \\u0e41\\u0e2d\\u0e14 \\u0e0a\\u0e2d\\u0e1a \\u0e04\\u0e39\\u0e48 \\u0e40\\u0e08\\u0e49\\u0e32 \\u0e0a\\u0e32 \\u0e22\\u0e2d \\u0e25\\u0e31\\u0e19 \\u0e2b\\u0e21\\u0e27\\u0e14 \\u0e41\\u0e1e\\u0e19 \\u0e19\\u0e48\\u0e32\\u0e23\\u0e31\\u0e01 \\u0e17\\u0e31\\u0e49\\u0e07\\u0e04\\u0e39\\u0e48 \\ud83d\\ude0d\\ud83d\\ude0d \\u0e0a\\u0e21 \\u0e25\\u0e30\\u0e04\\u0e23 \\u0e22\\u0e49\\u0e2d\\u0e19\\u0e2b\\u0e25\\u0e31\\u0e07 \\u0e25\\u0e34\\u0e02\\u0e34\\u0e15 \\u0e23\\u0e31\\u0e01 TheCrownPrincess EP 11 \\u0e17\\u0e48\\u0e35\\u0e48 \\u0e25\\u0e34\\u0e49\\u0e07\\u0e04\\u0e4c\"\n        ],\n        \"semantic_type\": \"\",\n        \"description\": \"\"\n      }\n    },\n    {\n      \"column\": \"class\",\n      \"properties\": {\n        \"dtype\": \"category\",\n        \"num_unique_values\": 3,\n        \"samples\": [\n          \"CH3Thailand.csv\",\n          \"ejan2016.csv\",\n          \"punpromotion.csv\"\n        ],\n        \"semantic_type\": \"\",\n        \"description\": \"\"\n      }\n    }\n  ]\n}"
            }
          },
          "metadata": {},
          "execution_count": 3
        }
      ]
    },
    {
      "cell_type": "code",
      "metadata": {
        "id": "PPGwJHj3JFC8"
      },
      "source": [
        "pos_data=df['message']\n",
        "pos_target=df['class']"
      ],
      "execution_count": null,
      "outputs": []
    },
    {
      "cell_type": "markdown",
      "metadata": {
        "id": "bfNVe0AgedkJ"
      },
      "source": [
        "# Train and Test Using train_test_split()"
      ]
    },
    {
      "cell_type": "code",
      "metadata": {
        "id": "1JXQypveJSsE",
        "colab": {
          "base_uri": "https://localhost:8080/"
        },
        "outputId": "b575bfab-2d0a-44fe-fc50-bc098e94ba36"
      },
      "source": [
        "from sklearn.feature_extraction.text import CountVectorizer\n",
        "from sklearn.feature_extraction.text import TfidfTransformer\n",
        "from sklearn.naive_bayes import MultinomialNB\n",
        "from sklearn.metrics import accuracy_score\n",
        "\n",
        "from sklearn.model_selection import train_test_split\n",
        "\n",
        "vectorizer=CountVectorizer(tokenizer=lambda x: x.split())\n",
        "tfidf=TfidfTransformer()\n",
        "X=vectorizer.fit_transform(pos_data)\n",
        "X=tfidf.fit_transform(X)\n",
        "X_train, X_test, Y_train, Y_test = train_test_split(X,pos_target, test_size = 0.10, random_state = 42)\n",
        "clf=MultinomialNB().fit(X_train,Y_train)\n",
        "Y_predict = clf.predict(X_test)\n",
        "accuracy_score(Y_test, Y_predict)"
      ],
      "execution_count": null,
      "outputs": [
        {
          "output_type": "stream",
          "name": "stderr",
          "text": [
            "/usr/local/lib/python3.10/dist-packages/sklearn/feature_extraction/text.py:528: UserWarning: The parameter 'token_pattern' will not be used since 'tokenizer' is not None'\n",
            "  warnings.warn(\n"
          ]
        },
        {
          "output_type": "execute_result",
          "data": {
            "text/plain": [
              "0.9802631578947368"
            ]
          },
          "metadata": {},
          "execution_count": 8
        }
      ]
    },
    {
      "cell_type": "code",
      "metadata": {
        "colab": {
          "base_uri": "https://localhost:8080/"
        },
        "id": "Pk3K9ZdOk6Qm",
        "outputId": "bb3ea33a-e4f7-4808-fcad-fac2310785be"
      },
      "source": [
        "from sklearn.feature_extraction.text import CountVectorizer\n",
        "from sklearn.feature_extraction.text import TfidfTransformer\n",
        "\n",
        "show_pos_data=['i buy a pet book i want to find the best food for dog and cat','i buy food for my dog at the pet shop','the dog and the cat']\n",
        "vectorizer=CountVectorizer()\n",
        "tfidf=TfidfTransformer()\n",
        "X=vectorizer.fit_transform(show_pos_data)\n",
        "Y=tfidf.fit_transform(X)\n",
        "X"
      ],
      "execution_count": null,
      "outputs": [
        {
          "output_type": "execute_result",
          "data": {
            "text/plain": [
              "<3x16 sparse matrix of type '<class 'numpy.int64'>'\n",
              "\twith 26 stored elements in Compressed Sparse Row format>"
            ]
          },
          "metadata": {},
          "execution_count": 9
        }
      ]
    },
    {
      "cell_type": "code",
      "source": [
        "X.todense()"
      ],
      "metadata": {
        "colab": {
          "base_uri": "https://localhost:8080/"
        },
        "id": "WOtiRzaDgPzI",
        "outputId": "342a371d-a3bf-475b-8f09-0c5d75de5806"
      },
      "execution_count": null,
      "outputs": [
        {
          "output_type": "execute_result",
          "data": {
            "text/plain": [
              "matrix([[1, 0, 1, 1, 1, 1, 1, 1, 1, 1, 0, 1, 0, 1, 1, 1],\n",
              "        [0, 1, 0, 0, 1, 0, 1, 0, 1, 1, 1, 1, 1, 1, 0, 0],\n",
              "        [1, 0, 0, 0, 0, 1, 1, 0, 0, 0, 0, 0, 0, 2, 0, 0]])"
            ]
          },
          "metadata": {},
          "execution_count": 11
        }
      ]
    },
    {
      "cell_type": "code",
      "source": [
        "vectorizer.get_feature_names_out()"
      ],
      "metadata": {
        "colab": {
          "base_uri": "https://localhost:8080/"
        },
        "id": "9janrXxKUqn7",
        "outputId": "1e64691c-cacc-4fab-8b7b-12124d8dafa4"
      },
      "execution_count": null,
      "outputs": [
        {
          "output_type": "execute_result",
          "data": {
            "text/plain": [
              "array(['and', 'at', 'best', 'book', 'buy', 'cat', 'dog', 'find', 'food',\n",
              "       'for', 'my', 'pet', 'shop', 'the', 'to', 'want'], dtype=object)"
            ]
          },
          "metadata": {},
          "execution_count": 12
        }
      ]
    },
    {
      "cell_type": "code",
      "metadata": {
        "colab": {
          "base_uri": "https://localhost:8080/"
        },
        "id": "zJb92B4Rlcg_",
        "outputId": "65cf2fed-2109-4500-9210-4d57039c6f3b"
      },
      "source": [
        "X.todense()"
      ],
      "execution_count": null,
      "outputs": [
        {
          "output_type": "execute_result",
          "data": {
            "text/plain": [
              "matrix([[1, 0, 1, 1, 1, 1, 1, 1, 1, 1, 0, 1, 0, 1, 1, 1],\n",
              "        [0, 1, 0, 0, 1, 0, 1, 0, 1, 1, 1, 1, 1, 1, 0, 0],\n",
              "        [1, 0, 0, 0, 0, 1, 1, 0, 0, 0, 0, 0, 0, 2, 0, 0]])"
            ]
          },
          "metadata": {},
          "execution_count": 13
        }
      ]
    },
    {
      "cell_type": "code",
      "metadata": {
        "colab": {
          "base_uri": "https://localhost:8080/"
        },
        "id": "noCv_K8wml4I",
        "outputId": "c4bf7db9-f442-49b0-bc15-8cddec8b6d21"
      },
      "source": [
        "Y.todense()"
      ],
      "execution_count": null,
      "outputs": [
        {
          "output_type": "execute_result",
          "data": {
            "text/plain": [
              "matrix([[0.25117442, 0.        , 0.33026418, 0.33026418, 0.25117442,\n",
              "         0.25117442, 0.19505935, 0.33026418, 0.25117442, 0.25117442,\n",
              "         0.        , 0.25117442, 0.        , 0.19505935, 0.33026418,\n",
              "         0.33026418],\n",
              "        [0.        , 0.40786601, 0.        , 0.        , 0.31019261,\n",
              "         0.        , 0.24089223, 0.        , 0.31019261, 0.31019261,\n",
              "         0.40786601, 0.31019261, 0.40786601, 0.24089223, 0.        ,\n",
              "         0.        ],\n",
              "        [0.44652407, 0.        , 0.        , 0.        , 0.        ,\n",
              "         0.44652407, 0.34676577, 0.        , 0.        , 0.        ,\n",
              "         0.        , 0.        , 0.        , 0.69353155, 0.        ,\n",
              "         0.        ]])"
            ]
          },
          "metadata": {},
          "execution_count": 14
        }
      ]
    },
    {
      "cell_type": "code",
      "metadata": {
        "colab": {
          "base_uri": "https://localhost:8080/"
        },
        "id": "OWpnsqdGljpB",
        "outputId": "4531f17d-b117-4774-a527-dc93430efaca"
      },
      "source": [
        "vectorizer.get_feature_names()"
      ],
      "execution_count": null,
      "outputs": [
        {
          "output_type": "stream",
          "name": "stderr",
          "text": [
            "/usr/local/lib/python3.7/dist-packages/sklearn/utils/deprecation.py:87: FutureWarning: Function get_feature_names is deprecated; get_feature_names is deprecated in 1.0 and will be removed in 1.2. Please use get_feature_names_out instead.\n",
            "  warnings.warn(msg, category=FutureWarning)\n"
          ]
        },
        {
          "output_type": "execute_result",
          "data": {
            "text/plain": [
              "['and',\n",
              " 'at',\n",
              " 'best',\n",
              " 'book',\n",
              " 'buy',\n",
              " 'cat',\n",
              " 'dog',\n",
              " 'find',\n",
              " 'food',\n",
              " 'for',\n",
              " 'my',\n",
              " 'pet',\n",
              " 'shop',\n",
              " 'the',\n",
              " 'to',\n",
              " 'want']"
            ]
          },
          "metadata": {},
          "execution_count": 12
        }
      ]
    },
    {
      "cell_type": "markdown",
      "metadata": {
        "id": "MSyJug3cei4d"
      },
      "source": [
        "# Cross Validation"
      ]
    },
    {
      "cell_type": "code",
      "metadata": {
        "id": "GonC0L1ZFY6h"
      },
      "source": [
        "from sklearn.model_selection import cross_val_score\n",
        "cv=cross_val_score(clf,X,pos_target,cv=10)"
      ],
      "execution_count": null,
      "outputs": []
    },
    {
      "cell_type": "code",
      "source": [
        "cv"
      ],
      "metadata": {
        "colab": {
          "base_uri": "https://localhost:8080/"
        },
        "id": "gzSoqTjIhPr7",
        "outputId": "d8a8cd47-1612-49c6-82af-e14c3cdac80d"
      },
      "execution_count": null,
      "outputs": [
        {
          "output_type": "execute_result",
          "data": {
            "text/plain": [
              "array([0.94736842, 0.9495614 , 0.97807018, 0.98026316, 0.99340659,\n",
              "       0.99340659, 0.98461538, 0.98901099, 0.98681319, 0.96703297])"
            ]
          },
          "metadata": {},
          "execution_count": 14
        }
      ]
    },
    {
      "cell_type": "code",
      "metadata": {
        "id": "rxFmSHw9FpXv",
        "colab": {
          "base_uri": "https://localhost:8080/"
        },
        "outputId": "29f1a1f0-eaa5-4981-a1ce-6f37aa6cff05"
      },
      "source": [
        "sum(cv)/10"
      ],
      "execution_count": null,
      "outputs": [
        {
          "output_type": "execute_result",
          "data": {
            "text/plain": [
              "0.9769548872180451"
            ]
          },
          "metadata": {},
          "execution_count": 14
        }
      ]
    },
    {
      "cell_type": "code",
      "metadata": {
        "id": "4EqNm3FlJ6wh",
        "colab": {
          "base_uri": "https://localhost:8080/"
        },
        "outputId": "1ef090d2-b724-4f37-b001-e6ffbb49a47d"
      },
      "source": [
        "docs_new = ['เปิด ดู ละคร ดัง ตอนนี้','ลด ร้าน ดัง วันนี้ ด่วน']\n",
        "X_new = vectorizer.transform(docs_new)\n",
        "X_new = tfidf.transform(X_new)\n",
        "predicted = clf.predict(X_new)\n",
        "print(predicted)"
      ],
      "execution_count": null,
      "outputs": [
        {
          "output_type": "stream",
          "name": "stdout",
          "text": [
            "['CH3Thailand.csv' 'punpromotion.csv']\n"
          ]
        }
      ]
    },
    {
      "cell_type": "markdown",
      "metadata": {
        "id": "gBctRaJwenSC"
      },
      "source": [
        "# Using Pipeline"
      ]
    },
    {
      "cell_type": "code",
      "metadata": {
        "id": "ZJpm0LZpK1Qz",
        "colab": {
          "base_uri": "https://localhost:8080/",
          "height": 313
        },
        "outputId": "4b52b32a-6382-4a8a-a76d-493a181cbda5"
      },
      "source": [
        "from sklearn.pipeline import Pipeline\n",
        "from sklearn.feature_extraction.text import CountVectorizer\n",
        "from sklearn.feature_extraction.text import TfidfTransformer\n",
        "from sklearn.naive_bayes import MultinomialNB\n",
        "\n",
        "df=pd.read_csv('text_data.csv')\n",
        "df.dropna(inplace=True)\n",
        "pos_data=df['message']\n",
        "pos_target=df['class']\n",
        "\n",
        "clf_pipeline = Pipeline([('vect',CountVectorizer(tokenizer=lambda x: x.split())),\n",
        "                         ('tfidf',TfidfTransformer()),\n",
        "                         ('clf',MultinomialNB())])\n",
        "clf_pipeline.fit(pos_data,pos_target)"
      ],
      "execution_count": null,
      "outputs": [
        {
          "output_type": "stream",
          "name": "stderr",
          "text": [
            "/usr/local/lib/python3.9/dist-packages/sklearn/feature_extraction/text.py:528: UserWarning: The parameter 'token_pattern' will not be used since 'tokenizer' is not None'\n",
            "  warnings.warn(\n"
          ]
        },
        {
          "output_type": "execute_result",
          "data": {
            "text/plain": [
              "Pipeline(steps=[('vect',\n",
              "                 CountVectorizer(tokenizer=<function <lambda> at 0x7ff9b1af5430>)),\n",
              "                ('tfidf', TfidfTransformer()), ('clf', MultinomialNB())])"
            ],
            "text/html": [
              "<style>#sk-container-id-1 {color: black;background-color: white;}#sk-container-id-1 pre{padding: 0;}#sk-container-id-1 div.sk-toggleable {background-color: white;}#sk-container-id-1 label.sk-toggleable__label {cursor: pointer;display: block;width: 100%;margin-bottom: 0;padding: 0.3em;box-sizing: border-box;text-align: center;}#sk-container-id-1 label.sk-toggleable__label-arrow:before {content: \"▸\";float: left;margin-right: 0.25em;color: #696969;}#sk-container-id-1 label.sk-toggleable__label-arrow:hover:before {color: black;}#sk-container-id-1 div.sk-estimator:hover label.sk-toggleable__label-arrow:before {color: black;}#sk-container-id-1 div.sk-toggleable__content {max-height: 0;max-width: 0;overflow: hidden;text-align: left;background-color: #f0f8ff;}#sk-container-id-1 div.sk-toggleable__content pre {margin: 0.2em;color: black;border-radius: 0.25em;background-color: #f0f8ff;}#sk-container-id-1 input.sk-toggleable__control:checked~div.sk-toggleable__content {max-height: 200px;max-width: 100%;overflow: auto;}#sk-container-id-1 input.sk-toggleable__control:checked~label.sk-toggleable__label-arrow:before {content: \"▾\";}#sk-container-id-1 div.sk-estimator input.sk-toggleable__control:checked~label.sk-toggleable__label {background-color: #d4ebff;}#sk-container-id-1 div.sk-label input.sk-toggleable__control:checked~label.sk-toggleable__label {background-color: #d4ebff;}#sk-container-id-1 input.sk-hidden--visually {border: 0;clip: rect(1px 1px 1px 1px);clip: rect(1px, 1px, 1px, 1px);height: 1px;margin: -1px;overflow: hidden;padding: 0;position: absolute;width: 1px;}#sk-container-id-1 div.sk-estimator {font-family: monospace;background-color: #f0f8ff;border: 1px dotted black;border-radius: 0.25em;box-sizing: border-box;margin-bottom: 0.5em;}#sk-container-id-1 div.sk-estimator:hover {background-color: #d4ebff;}#sk-container-id-1 div.sk-parallel-item::after {content: \"\";width: 100%;border-bottom: 1px solid gray;flex-grow: 1;}#sk-container-id-1 div.sk-label:hover label.sk-toggleable__label {background-color: #d4ebff;}#sk-container-id-1 div.sk-serial::before {content: \"\";position: absolute;border-left: 1px solid gray;box-sizing: border-box;top: 0;bottom: 0;left: 50%;z-index: 0;}#sk-container-id-1 div.sk-serial {display: flex;flex-direction: column;align-items: center;background-color: white;padding-right: 0.2em;padding-left: 0.2em;position: relative;}#sk-container-id-1 div.sk-item {position: relative;z-index: 1;}#sk-container-id-1 div.sk-parallel {display: flex;align-items: stretch;justify-content: center;background-color: white;position: relative;}#sk-container-id-1 div.sk-item::before, #sk-container-id-1 div.sk-parallel-item::before {content: \"\";position: absolute;border-left: 1px solid gray;box-sizing: border-box;top: 0;bottom: 0;left: 50%;z-index: -1;}#sk-container-id-1 div.sk-parallel-item {display: flex;flex-direction: column;z-index: 1;position: relative;background-color: white;}#sk-container-id-1 div.sk-parallel-item:first-child::after {align-self: flex-end;width: 50%;}#sk-container-id-1 div.sk-parallel-item:last-child::after {align-self: flex-start;width: 50%;}#sk-container-id-1 div.sk-parallel-item:only-child::after {width: 0;}#sk-container-id-1 div.sk-dashed-wrapped {border: 1px dashed gray;margin: 0 0.4em 0.5em 0.4em;box-sizing: border-box;padding-bottom: 0.4em;background-color: white;}#sk-container-id-1 div.sk-label label {font-family: monospace;font-weight: bold;display: inline-block;line-height: 1.2em;}#sk-container-id-1 div.sk-label-container {text-align: center;}#sk-container-id-1 div.sk-container {/* jupyter's `normalize.less` sets `[hidden] { display: none; }` but bootstrap.min.css set `[hidden] { display: none !important; }` so we also need the `!important` here to be able to override the default hidden behavior on the sphinx rendered scikit-learn.org. See: https://github.com/scikit-learn/scikit-learn/issues/21755 */display: inline-block !important;position: relative;}#sk-container-id-1 div.sk-text-repr-fallback {display: none;}</style><div id=\"sk-container-id-1\" class=\"sk-top-container\"><div class=\"sk-text-repr-fallback\"><pre>Pipeline(steps=[(&#x27;vect&#x27;,\n",
              "                 CountVectorizer(tokenizer=&lt;function &lt;lambda&gt; at 0x7ff9b1af5430&gt;)),\n",
              "                (&#x27;tfidf&#x27;, TfidfTransformer()), (&#x27;clf&#x27;, MultinomialNB())])</pre><b>In a Jupyter environment, please rerun this cell to show the HTML representation or trust the notebook. <br />On GitHub, the HTML representation is unable to render, please try loading this page with nbviewer.org.</b></div><div class=\"sk-container\" hidden><div class=\"sk-item sk-dashed-wrapped\"><div class=\"sk-label-container\"><div class=\"sk-label sk-toggleable\"><input class=\"sk-toggleable__control sk-hidden--visually\" id=\"sk-estimator-id-1\" type=\"checkbox\" ><label for=\"sk-estimator-id-1\" class=\"sk-toggleable__label sk-toggleable__label-arrow\">Pipeline</label><div class=\"sk-toggleable__content\"><pre>Pipeline(steps=[(&#x27;vect&#x27;,\n",
              "                 CountVectorizer(tokenizer=&lt;function &lt;lambda&gt; at 0x7ff9b1af5430&gt;)),\n",
              "                (&#x27;tfidf&#x27;, TfidfTransformer()), (&#x27;clf&#x27;, MultinomialNB())])</pre></div></div></div><div class=\"sk-serial\"><div class=\"sk-item\"><div class=\"sk-estimator sk-toggleable\"><input class=\"sk-toggleable__control sk-hidden--visually\" id=\"sk-estimator-id-2\" type=\"checkbox\" ><label for=\"sk-estimator-id-2\" class=\"sk-toggleable__label sk-toggleable__label-arrow\">CountVectorizer</label><div class=\"sk-toggleable__content\"><pre>CountVectorizer(tokenizer=&lt;function &lt;lambda&gt; at 0x7ff9b1af5430&gt;)</pre></div></div></div><div class=\"sk-item\"><div class=\"sk-estimator sk-toggleable\"><input class=\"sk-toggleable__control sk-hidden--visually\" id=\"sk-estimator-id-3\" type=\"checkbox\" ><label for=\"sk-estimator-id-3\" class=\"sk-toggleable__label sk-toggleable__label-arrow\">TfidfTransformer</label><div class=\"sk-toggleable__content\"><pre>TfidfTransformer()</pre></div></div></div><div class=\"sk-item\"><div class=\"sk-estimator sk-toggleable\"><input class=\"sk-toggleable__control sk-hidden--visually\" id=\"sk-estimator-id-4\" type=\"checkbox\" ><label for=\"sk-estimator-id-4\" class=\"sk-toggleable__label sk-toggleable__label-arrow\">MultinomialNB</label><div class=\"sk-toggleable__content\"><pre>MultinomialNB()</pre></div></div></div></div></div></div></div>"
            ]
          },
          "metadata": {},
          "execution_count": 19
        }
      ]
    },
    {
      "cell_type": "code",
      "metadata": {
        "id": "FJiOJN0HLfVs",
        "colab": {
          "base_uri": "https://localhost:8080/"
        },
        "outputId": "1a2af625-b038-4521-9d45-9f69dabc890c"
      },
      "source": [
        "docs_new = ['เปิด ดู ละคร ดัง ตอนนี้','ลด ร้าน ดัง วันนี้ ด่วน']\n",
        "clf_pipeline.predict(docs_new)"
      ],
      "execution_count": null,
      "outputs": [
        {
          "output_type": "execute_result",
          "data": {
            "text/plain": [
              "array(['CH3Thailand.csv', 'punpromotion.csv'], dtype='<U16')"
            ]
          },
          "metadata": {},
          "execution_count": 20
        }
      ]
    },
    {
      "cell_type": "code",
      "source": [],
      "metadata": {
        "id": "dFSNnSL_VxpI"
      },
      "execution_count": null,
      "outputs": []
    }
  ]
}