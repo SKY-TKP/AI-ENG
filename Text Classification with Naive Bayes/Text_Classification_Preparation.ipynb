{
  "nbformat": 4,
  "nbformat_minor": 0,
  "metadata": {
    "colab": {
      "provenance": []
    },
    "kernelspec": {
      "name": "python3",
      "display_name": "Python 3"
    }
  },
  "cells": [
    {
      "cell_type": "code",
      "metadata": {
        "id": "ibpmRheJEI9f"
      },
      "source": [
        "import pandas as pd\n",
        "\n",
        "df=pd.read_csv('CH3Thailand.csv')\n",
        "df.head()"
      ],
      "execution_count": null,
      "outputs": []
    },
    {
      "cell_type": "code",
      "metadata": {
        "id": "isXJJDZa6Q6T",
        "outputId": "e05b8614-a814-4a47-bbae-167ac9dab6ae",
        "colab": {
          "base_uri": "https://localhost:8080/",
          "height": 193
        }
      },
      "source": [
        "!pip install pythainlp\n",
        "!pip install marisa_trie\n",
        "\n",
        "from pythainlp.tokenize import word_tokenize\n",
        "from pythainlp.corpus.common import thai_words\n",
        "import marisa_trie\n",
        "from pythainlp.corpus import thai_stopwords\n",
        "\n",
        "added_words = ['กรมสมเด็จพระเทพฯ','ศูนย์การเรียน','ตำรวจตระเวนชายแดน','วาร์ป','อันดับ','มิญ่า','คาลิฟา','วันพีซ','ซาร่า','ย้อนหลัง','น้ำมันมะพร้าว',\n",
        "               'ณเดชน์','มงกุฎ','จรณ','อินเนอร์','แมนเนเจอร์','เกนหลง','ลูกยาง','พระพุทธรูป','อุลตร้าแมน','เมนต์','อังกอร์','ชาลิดา','เบลล่า','เบลล์','วีกิจ']\n",
        "\n",
        "my_punc = set(['\"','“','”','ๆ','!','-','\\xa0•••',\"‘\",')','(','0','1','2','3','4','5','6','7','8','9','...','.','/',\"’\",':','%',\n",
        "               \"'\",'#'])\n",
        "\n",
        "all_words = set(thai_words())\n",
        "for word in added_words:\n",
        "  all_words.add(word)\n",
        "c_dict = marisa_trie.Trie(all_words)\n",
        "\n",
        "def extract_words(title,c_dict):\n",
        "  words = ''\n",
        "  for token in title.split():\n",
        "    if token[0] == '#': # remove\n",
        "      continue\n",
        "    elif 'http'in token or 'www' in token:\n",
        "      continue\n",
        "    else:\n",
        "      words += ' '+cut_words(token,c_dict)\n",
        "  return words\n",
        "\n",
        "def cut_words(title,c_dict):\n",
        "\n",
        "  words = word_tokenize(title,engine='newmm',custom_dict=c_dict,keep_whitespace=False)\n",
        "  words = [word for word in words if word not in my_punc and word not in thai_stopwords()]\n",
        "  words = [word for word in words if len(word) > 1]\n",
        "  return ' '.join(words)"
      ],
      "execution_count": null,
      "outputs": [
        {
          "output_type": "stream",
          "text": [
            "Requirement already satisfied: pythainlp in /usr/local/lib/python3.6/dist-packages (2.2.4)\n",
            "Requirement already satisfied: tinydb>=3.0 in /usr/local/lib/python3.6/dist-packages (from pythainlp) (4.2.0)\n",
            "Requirement already satisfied: requests>=2.22.0 in /usr/local/lib/python3.6/dist-packages (from pythainlp) (2.23.0)\n",
            "Requirement already satisfied: python-crfsuite>=0.9.6 in /usr/local/lib/python3.6/dist-packages (from pythainlp) (0.9.7)\n",
            "Requirement already satisfied: idna<3,>=2.5 in /usr/local/lib/python3.6/dist-packages (from requests>=2.22.0->pythainlp) (2.10)\n",
            "Requirement already satisfied: urllib3!=1.25.0,!=1.25.1,<1.26,>=1.21.1 in /usr/local/lib/python3.6/dist-packages (from requests>=2.22.0->pythainlp) (1.24.3)\n",
            "Requirement already satisfied: chardet<4,>=3.0.2 in /usr/local/lib/python3.6/dist-packages (from requests>=2.22.0->pythainlp) (3.0.4)\n",
            "Requirement already satisfied: certifi>=2017.4.17 in /usr/local/lib/python3.6/dist-packages (from requests>=2.22.0->pythainlp) (2020.6.20)\n",
            "Requirement already satisfied: marisa_trie in /usr/local/lib/python3.6/dist-packages (0.7.5)\n"
          ],
          "name": "stdout"
        }
      ]
    },
    {
      "cell_type": "code",
      "metadata": {
        "id": "o6w1wign7VKu",
        "outputId": "7bfa0007-c9b9-4dfd-b461-e2a236a2bf5c",
        "colab": {
          "base_uri": "https://localhost:8080/",
          "height": 415
        }
      },
      "source": [
        "import pandas as pd\n",
        "\n",
        "files = ['CH3Thailand.csv','ejan2016.csv','punpromotion.csv']\n",
        "out_file = pd.DataFrame(columns=['message','class'])\n",
        "for file in files:\n",
        "  df = pd.read_csv(file)\n",
        "  for msg in df.message:\n",
        "    out_file=out_file.append({'message':extract_words(msg,c_dict),'class':file},ignore_index=True)\n",
        "out_file"
      ],
      "execution_count": null,
      "outputs": [
        {
          "output_type": "execute_result",
          "data": {
            "text/html": [
              "<div>\n",
              "<style scoped>\n",
              "    .dataframe tbody tr th:only-of-type {\n",
              "        vertical-align: middle;\n",
              "    }\n",
              "\n",
              "    .dataframe tbody tr th {\n",
              "        vertical-align: top;\n",
              "    }\n",
              "\n",
              "    .dataframe thead th {\n",
              "        text-align: right;\n",
              "    }\n",
              "</style>\n",
              "<table border=\"1\" class=\"dataframe\">\n",
              "  <thead>\n",
              "    <tr style=\"text-align: right;\">\n",
              "      <th></th>\n",
              "      <th>message</th>\n",
              "      <th>class</th>\n",
              "    </tr>\n",
              "  </thead>\n",
              "  <tbody>\n",
              "    <tr>\n",
              "      <th>0</th>\n",
              "      <td>อย่า โกรธ แม่ ขาย 😭😭 ดู ย้อนหลัง ที่นี่</td>\n",
              "      <td>CH3Thailand.csv</td>\n",
              "    </tr>\n",
              "    <tr>\n",
              "      <th>1</th>\n",
              "      <td>แอคชั่น เต็ม แถม ซึ้ง ฉาก หวาน ดู เบื้องหลัง ...</td>\n",
              "      <td>CH3Thailand.csv</td>\n",
              "    </tr>\n",
              "    <tr>\n",
              "      <th>2</th>\n",
              "      <td>ร้องไห้ ไหว ทด กลายเป็น ทาส เด็ก ดู ย้อนหลัง ...</td>\n",
              "      <td>CH3Thailand.csv</td>\n",
              "    </tr>\n",
              "    <tr>\n",
              "      <th>3</th>\n",
              "      <td>รื้อ กระเป๋า เผ่า ส่อง  ไอเทม เด็ด ดู ติดตาม ...</td>\n",
              "      <td>CH3Thailand.csv</td>\n",
              "    </tr>\n",
              "    <tr>\n",
              "      <th>4</th>\n",
              "      <td>มีความผิด ที่จะ โดน เฆี่ยน ทด ใจเด็ด  ดู ย้อน...</td>\n",
              "      <td>CH3Thailand.csv</td>\n",
              "    </tr>\n",
              "    <tr>\n",
              "      <th>...</th>\n",
              "      <td>...</td>\n",
              "      <td>...</td>\n",
              "    </tr>\n",
              "    <tr>\n",
              "      <th>4550</th>\n",
              "      <td>คุ้ม คุ้ม คุ้ม แบ่งปัน ส่วนลด โปรโมชั่น บัตรเ...</td>\n",
              "      <td>punpromotion.csv</td>\n",
              "    </tr>\n",
              "    <tr>\n",
              "      <th>4551</th>\n",
              "      <td>Mo-Mo Paradise กิน อั้น ชาบู ชาบู สุกี้ สไตล์...</td>\n",
              "      <td>punpromotion.csv</td>\n",
              "    </tr>\n",
              "    <tr>\n",
              "      <th>4552</th>\n",
              "      <td>บัตรเครดิต ส่วนลด ไม่ต้อง เสียใจ ปัน โปร &gt;&gt; ...</td>\n",
              "      <td>punpromotion.csv</td>\n",
              "    </tr>\n",
              "    <tr>\n",
              "      <th>4553</th>\n",
              "      <td>เบื่อ ไหม พลาด ส่วนลด บัตรเครดิต ปัน โปร</td>\n",
              "      <td>punpromotion.csv</td>\n",
              "    </tr>\n",
              "    <tr>\n",
              "      <th>4554</th>\n",
              "      <td>แบ่งปัน ส่วนลด โปรโมชั่น บัตรเครดิต ร้านอาหาร...</td>\n",
              "      <td>punpromotion.csv</td>\n",
              "    </tr>\n",
              "  </tbody>\n",
              "</table>\n",
              "<p>4555 rows × 2 columns</p>\n",
              "</div>"
            ],
            "text/plain": [
              "                                                message             class\n",
              "0               อย่า โกรธ แม่ ขาย 😭😭 ดู ย้อนหลัง ที่นี่   CH3Thailand.csv\n",
              "1      แอคชั่น เต็ม แถม ซึ้ง ฉาก หวาน ดู เบื้องหลัง ...   CH3Thailand.csv\n",
              "2      ร้องไห้ ไหว ทด กลายเป็น ทาส เด็ก ดู ย้อนหลัง ...   CH3Thailand.csv\n",
              "3      รื้อ กระเป๋า เผ่า ส่อง  ไอเทม เด็ด ดู ติดตาม ...   CH3Thailand.csv\n",
              "4      มีความผิด ที่จะ โดน เฆี่ยน ทด ใจเด็ด  ดู ย้อน...   CH3Thailand.csv\n",
              "...                                                 ...               ...\n",
              "4550   คุ้ม คุ้ม คุ้ม แบ่งปัน ส่วนลด โปรโมชั่น บัตรเ...  punpromotion.csv\n",
              "4551   Mo-Mo Paradise กิน อั้น ชาบู ชาบู สุกี้ สไตล์...  punpromotion.csv\n",
              "4552    บัตรเครดิต ส่วนลด ไม่ต้อง เสียใจ ปัน โปร >> ...  punpromotion.csv\n",
              "4553           เบื่อ ไหม พลาด ส่วนลด บัตรเครดิต ปัน โปร  punpromotion.csv\n",
              "4554   แบ่งปัน ส่วนลด โปรโมชั่น บัตรเครดิต ร้านอาหาร...  punpromotion.csv\n",
              "\n",
              "[4555 rows x 2 columns]"
            ]
          },
          "metadata": {
            "tags": []
          },
          "execution_count": 7
        }
      ]
    },
    {
      "cell_type": "code",
      "metadata": {
        "id": "KfTuVIyKANOy"
      },
      "source": [
        "out_file.to_csv('text_data.csv')"
      ],
      "execution_count": null,
      "outputs": []
    }
  ]
}