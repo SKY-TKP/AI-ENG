{
  "nbformat": 4,
  "nbformat_minor": 0,
  "metadata": {
    "colab": {
      "provenance": []
    },
    "kernelspec": {
      "name": "python3",
      "display_name": "Python 3"
    }
  },
  "cells": [
    {
      "cell_type": "markdown",
      "metadata": {
        "id": "JndcNd7BJeWW"
      },
      "source": [
        "# Princial Component Analysis (PCA)\n",
        "\n",
        "## In class\n",
        "\n",
        "Try to understand the notebook"
      ]
    },
    {
      "cell_type": "code",
      "metadata": {
        "id": "dg42yMtxGq3K"
      },
      "source": [
        "import numpy as np\n",
        "import matplotlib.pyplot as plt\n",
        "import pandas as pd"
      ],
      "execution_count": null,
      "outputs": []
    },
    {
      "cell_type": "markdown",
      "metadata": {
        "id": "ahyNMyd4KFZO"
      },
      "source": [
        "## Wine dataset"
      ]
    },
    {
      "cell_type": "code",
      "metadata": {
        "id": "pxyKOwajk3Xw",
        "outputId": "f1cb0be2-07a3-49d8-b0de-ce9444efce83",
        "colab": {
          "base_uri": "https://localhost:8080/",
          "height": 206
        }
      },
      "source": [
        "import pandas as pd\n",
        "\n",
        "# Wine\n",
        "# Wine data\n",
        "# 178 samples with 3 distinct varieties of red wine: Barolo, Grignolino and Barbera\n",
        "# Features measure chemical composition e.g. alcohol content\n",
        "\n",
        "# Wine data\n",
        "# 178 samples with 3 distinct varieties of red wine: Barolo, Grignolino and Barbera\n",
        "# Features measure chemical composition e.g. alcohol content\n",
        "# https://archive.ics.uci.edu/ml/datasets/Wine\n",
        "url = 'https://raw.githubusercontent.com/wichadak/wine/master/wine.data'\n",
        "df = pd.read_csv(url, header=None)\n",
        "df.sample(frac=1).head()\n"
      ],
      "execution_count": null,
      "outputs": [
        {
          "output_type": "execute_result",
          "data": {
            "text/plain": [
              "     0      1     2     3     4    5     6     7     8     9     10    11  \\\n",
              "31    1  13.58  1.66  2.36  19.1  106  2.86  3.19  0.22  1.95  6.90  1.09   \n",
              "62    2  13.67  1.25  1.92  18.0   94  2.10  1.79  0.32  0.73  3.80  1.23   \n",
              "90    2  12.08  1.83  2.32  18.5   81  1.60  1.50  0.52  1.64  2.40  1.08   \n",
              "14    1  14.38  1.87  2.38  12.0  102  3.30  3.64  0.29  2.96  7.50  1.20   \n",
              "109   2  11.61  1.35  2.70  20.0   94  2.74  2.92  0.29  2.49  2.65  0.96   \n",
              "\n",
              "       12    13  \n",
              "31   2.88  1515  \n",
              "62   2.46   630  \n",
              "90   2.27   480  \n",
              "14   3.00  1547  \n",
              "109  3.26   680  "
            ],
            "text/html": [
              "\n",
              "  <div id=\"df-8975f9c1-806d-473d-8523-41fdb96d72d2\">\n",
              "    <div class=\"colab-df-container\">\n",
              "      <div>\n",
              "<style scoped>\n",
              "    .dataframe tbody tr th:only-of-type {\n",
              "        vertical-align: middle;\n",
              "    }\n",
              "\n",
              "    .dataframe tbody tr th {\n",
              "        vertical-align: top;\n",
              "    }\n",
              "\n",
              "    .dataframe thead th {\n",
              "        text-align: right;\n",
              "    }\n",
              "</style>\n",
              "<table border=\"1\" class=\"dataframe\">\n",
              "  <thead>\n",
              "    <tr style=\"text-align: right;\">\n",
              "      <th></th>\n",
              "      <th>0</th>\n",
              "      <th>1</th>\n",
              "      <th>2</th>\n",
              "      <th>3</th>\n",
              "      <th>4</th>\n",
              "      <th>5</th>\n",
              "      <th>6</th>\n",
              "      <th>7</th>\n",
              "      <th>8</th>\n",
              "      <th>9</th>\n",
              "      <th>10</th>\n",
              "      <th>11</th>\n",
              "      <th>12</th>\n",
              "      <th>13</th>\n",
              "    </tr>\n",
              "  </thead>\n",
              "  <tbody>\n",
              "    <tr>\n",
              "      <th>31</th>\n",
              "      <td>1</td>\n",
              "      <td>13.58</td>\n",
              "      <td>1.66</td>\n",
              "      <td>2.36</td>\n",
              "      <td>19.1</td>\n",
              "      <td>106</td>\n",
              "      <td>2.86</td>\n",
              "      <td>3.19</td>\n",
              "      <td>0.22</td>\n",
              "      <td>1.95</td>\n",
              "      <td>6.90</td>\n",
              "      <td>1.09</td>\n",
              "      <td>2.88</td>\n",
              "      <td>1515</td>\n",
              "    </tr>\n",
              "    <tr>\n",
              "      <th>62</th>\n",
              "      <td>2</td>\n",
              "      <td>13.67</td>\n",
              "      <td>1.25</td>\n",
              "      <td>1.92</td>\n",
              "      <td>18.0</td>\n",
              "      <td>94</td>\n",
              "      <td>2.10</td>\n",
              "      <td>1.79</td>\n",
              "      <td>0.32</td>\n",
              "      <td>0.73</td>\n",
              "      <td>3.80</td>\n",
              "      <td>1.23</td>\n",
              "      <td>2.46</td>\n",
              "      <td>630</td>\n",
              "    </tr>\n",
              "    <tr>\n",
              "      <th>90</th>\n",
              "      <td>2</td>\n",
              "      <td>12.08</td>\n",
              "      <td>1.83</td>\n",
              "      <td>2.32</td>\n",
              "      <td>18.5</td>\n",
              "      <td>81</td>\n",
              "      <td>1.60</td>\n",
              "      <td>1.50</td>\n",
              "      <td>0.52</td>\n",
              "      <td>1.64</td>\n",
              "      <td>2.40</td>\n",
              "      <td>1.08</td>\n",
              "      <td>2.27</td>\n",
              "      <td>480</td>\n",
              "    </tr>\n",
              "    <tr>\n",
              "      <th>14</th>\n",
              "      <td>1</td>\n",
              "      <td>14.38</td>\n",
              "      <td>1.87</td>\n",
              "      <td>2.38</td>\n",
              "      <td>12.0</td>\n",
              "      <td>102</td>\n",
              "      <td>3.30</td>\n",
              "      <td>3.64</td>\n",
              "      <td>0.29</td>\n",
              "      <td>2.96</td>\n",
              "      <td>7.50</td>\n",
              "      <td>1.20</td>\n",
              "      <td>3.00</td>\n",
              "      <td>1547</td>\n",
              "    </tr>\n",
              "    <tr>\n",
              "      <th>109</th>\n",
              "      <td>2</td>\n",
              "      <td>11.61</td>\n",
              "      <td>1.35</td>\n",
              "      <td>2.70</td>\n",
              "      <td>20.0</td>\n",
              "      <td>94</td>\n",
              "      <td>2.74</td>\n",
              "      <td>2.92</td>\n",
              "      <td>0.29</td>\n",
              "      <td>2.49</td>\n",
              "      <td>2.65</td>\n",
              "      <td>0.96</td>\n",
              "      <td>3.26</td>\n",
              "      <td>680</td>\n",
              "    </tr>\n",
              "  </tbody>\n",
              "</table>\n",
              "</div>\n",
              "      <button class=\"colab-df-convert\" onclick=\"convertToInteractive('df-8975f9c1-806d-473d-8523-41fdb96d72d2')\"\n",
              "              title=\"Convert this dataframe to an interactive table.\"\n",
              "              style=\"display:none;\">\n",
              "        \n",
              "  <svg xmlns=\"http://www.w3.org/2000/svg\" height=\"24px\"viewBox=\"0 0 24 24\"\n",
              "       width=\"24px\">\n",
              "    <path d=\"M0 0h24v24H0V0z\" fill=\"none\"/>\n",
              "    <path d=\"M18.56 5.44l.94 2.06.94-2.06 2.06-.94-2.06-.94-.94-2.06-.94 2.06-2.06.94zm-11 1L8.5 8.5l.94-2.06 2.06-.94-2.06-.94L8.5 2.5l-.94 2.06-2.06.94zm10 10l.94 2.06.94-2.06 2.06-.94-2.06-.94-.94-2.06-.94 2.06-2.06.94z\"/><path d=\"M17.41 7.96l-1.37-1.37c-.4-.4-.92-.59-1.43-.59-.52 0-1.04.2-1.43.59L10.3 9.45l-7.72 7.72c-.78.78-.78 2.05 0 2.83L4 21.41c.39.39.9.59 1.41.59.51 0 1.02-.2 1.41-.59l7.78-7.78 2.81-2.81c.8-.78.8-2.07 0-2.86zM5.41 20L4 18.59l7.72-7.72 1.47 1.35L5.41 20z\"/>\n",
              "  </svg>\n",
              "      </button>\n",
              "      \n",
              "  <style>\n",
              "    .colab-df-container {\n",
              "      display:flex;\n",
              "      flex-wrap:wrap;\n",
              "      gap: 12px;\n",
              "    }\n",
              "\n",
              "    .colab-df-convert {\n",
              "      background-color: #E8F0FE;\n",
              "      border: none;\n",
              "      border-radius: 50%;\n",
              "      cursor: pointer;\n",
              "      display: none;\n",
              "      fill: #1967D2;\n",
              "      height: 32px;\n",
              "      padding: 0 0 0 0;\n",
              "      width: 32px;\n",
              "    }\n",
              "\n",
              "    .colab-df-convert:hover {\n",
              "      background-color: #E2EBFA;\n",
              "      box-shadow: 0px 1px 2px rgba(60, 64, 67, 0.3), 0px 1px 3px 1px rgba(60, 64, 67, 0.15);\n",
              "      fill: #174EA6;\n",
              "    }\n",
              "\n",
              "    [theme=dark] .colab-df-convert {\n",
              "      background-color: #3B4455;\n",
              "      fill: #D2E3FC;\n",
              "    }\n",
              "\n",
              "    [theme=dark] .colab-df-convert:hover {\n",
              "      background-color: #434B5C;\n",
              "      box-shadow: 0px 1px 3px 1px rgba(0, 0, 0, 0.15);\n",
              "      filter: drop-shadow(0px 1px 2px rgba(0, 0, 0, 0.3));\n",
              "      fill: #FFFFFF;\n",
              "    }\n",
              "  </style>\n",
              "\n",
              "      <script>\n",
              "        const buttonEl =\n",
              "          document.querySelector('#df-8975f9c1-806d-473d-8523-41fdb96d72d2 button.colab-df-convert');\n",
              "        buttonEl.style.display =\n",
              "          google.colab.kernel.accessAllowed ? 'block' : 'none';\n",
              "\n",
              "        async function convertToInteractive(key) {\n",
              "          const element = document.querySelector('#df-8975f9c1-806d-473d-8523-41fdb96d72d2');\n",
              "          const dataTable =\n",
              "            await google.colab.kernel.invokeFunction('convertToInteractive',\n",
              "                                                     [key], {});\n",
              "          if (!dataTable) return;\n",
              "\n",
              "          const docLinkHtml = 'Like what you see? Visit the ' +\n",
              "            '<a target=\"_blank\" href=https://colab.research.google.com/notebooks/data_table.ipynb>data table notebook</a>'\n",
              "            + ' to learn more about interactive tables.';\n",
              "          element.innerHTML = '';\n",
              "          dataTable['output_type'] = 'display_data';\n",
              "          await google.colab.output.renderOutput(dataTable, element);\n",
              "          const docLink = document.createElement('div');\n",
              "          docLink.innerHTML = docLinkHtml;\n",
              "          element.appendChild(docLink);\n",
              "        }\n",
              "      </script>\n",
              "    </div>\n",
              "  </div>\n",
              "  "
            ]
          },
          "metadata": {},
          "execution_count": 1
        }
      ]
    },
    {
      "cell_type": "code",
      "metadata": {
        "id": "06u9yXd6WGyz",
        "outputId": "3f5c0433-2263-4fca-c8da-8468e989dde5",
        "colab": {
          "base_uri": "https://localhost:8080/",
          "height": 364
        }
      },
      "source": [
        "df.describe()"
      ],
      "execution_count": null,
      "outputs": [
        {
          "output_type": "execute_result",
          "data": {
            "text/plain": [
              "               0           1           2           3           4           5   \\\n",
              "count  178.000000  178.000000  178.000000  178.000000  178.000000  178.000000   \n",
              "mean     1.938202   13.000618    2.336348    2.366517   19.494944   99.741573   \n",
              "std      0.775035    0.811827    1.117146    0.274344    3.339564   14.282484   \n",
              "min      1.000000   11.030000    0.740000    1.360000   10.600000   70.000000   \n",
              "25%      1.000000   12.362500    1.602500    2.210000   17.200000   88.000000   \n",
              "50%      2.000000   13.050000    1.865000    2.360000   19.500000   98.000000   \n",
              "75%      3.000000   13.677500    3.082500    2.557500   21.500000  107.000000   \n",
              "max      3.000000   14.830000    5.800000    3.230000   30.000000  162.000000   \n",
              "\n",
              "               6           7           8           9           10          11  \\\n",
              "count  178.000000  178.000000  178.000000  178.000000  178.000000  178.000000   \n",
              "mean     2.295112    2.029270    0.361854    1.590899    5.058090    0.957449   \n",
              "std      0.625851    0.998859    0.124453    0.572359    2.318286    0.228572   \n",
              "min      0.980000    0.340000    0.130000    0.410000    1.280000    0.480000   \n",
              "25%      1.742500    1.205000    0.270000    1.250000    3.220000    0.782500   \n",
              "50%      2.355000    2.135000    0.340000    1.555000    4.690000    0.965000   \n",
              "75%      2.800000    2.875000    0.437500    1.950000    6.200000    1.120000   \n",
              "max      3.880000    5.080000    0.660000    3.580000   13.000000    1.710000   \n",
              "\n",
              "               12           13  \n",
              "count  178.000000   178.000000  \n",
              "mean     2.611685   746.893258  \n",
              "std      0.709990   314.907474  \n",
              "min      1.270000   278.000000  \n",
              "25%      1.937500   500.500000  \n",
              "50%      2.780000   673.500000  \n",
              "75%      3.170000   985.000000  \n",
              "max      4.000000  1680.000000  "
            ],
            "text/html": [
              "\n",
              "  <div id=\"df-730367aa-06e8-4368-8001-d0b48bec0616\">\n",
              "    <div class=\"colab-df-container\">\n",
              "      <div>\n",
              "<style scoped>\n",
              "    .dataframe tbody tr th:only-of-type {\n",
              "        vertical-align: middle;\n",
              "    }\n",
              "\n",
              "    .dataframe tbody tr th {\n",
              "        vertical-align: top;\n",
              "    }\n",
              "\n",
              "    .dataframe thead th {\n",
              "        text-align: right;\n",
              "    }\n",
              "</style>\n",
              "<table border=\"1\" class=\"dataframe\">\n",
              "  <thead>\n",
              "    <tr style=\"text-align: right;\">\n",
              "      <th></th>\n",
              "      <th>0</th>\n",
              "      <th>1</th>\n",
              "      <th>2</th>\n",
              "      <th>3</th>\n",
              "      <th>4</th>\n",
              "      <th>5</th>\n",
              "      <th>6</th>\n",
              "      <th>7</th>\n",
              "      <th>8</th>\n",
              "      <th>9</th>\n",
              "      <th>10</th>\n",
              "      <th>11</th>\n",
              "      <th>12</th>\n",
              "      <th>13</th>\n",
              "    </tr>\n",
              "  </thead>\n",
              "  <tbody>\n",
              "    <tr>\n",
              "      <th>count</th>\n",
              "      <td>178.000000</td>\n",
              "      <td>178.000000</td>\n",
              "      <td>178.000000</td>\n",
              "      <td>178.000000</td>\n",
              "      <td>178.000000</td>\n",
              "      <td>178.000000</td>\n",
              "      <td>178.000000</td>\n",
              "      <td>178.000000</td>\n",
              "      <td>178.000000</td>\n",
              "      <td>178.000000</td>\n",
              "      <td>178.000000</td>\n",
              "      <td>178.000000</td>\n",
              "      <td>178.000000</td>\n",
              "      <td>178.000000</td>\n",
              "    </tr>\n",
              "    <tr>\n",
              "      <th>mean</th>\n",
              "      <td>1.938202</td>\n",
              "      <td>13.000618</td>\n",
              "      <td>2.336348</td>\n",
              "      <td>2.366517</td>\n",
              "      <td>19.494944</td>\n",
              "      <td>99.741573</td>\n",
              "      <td>2.295112</td>\n",
              "      <td>2.029270</td>\n",
              "      <td>0.361854</td>\n",
              "      <td>1.590899</td>\n",
              "      <td>5.058090</td>\n",
              "      <td>0.957449</td>\n",
              "      <td>2.611685</td>\n",
              "      <td>746.893258</td>\n",
              "    </tr>\n",
              "    <tr>\n",
              "      <th>std</th>\n",
              "      <td>0.775035</td>\n",
              "      <td>0.811827</td>\n",
              "      <td>1.117146</td>\n",
              "      <td>0.274344</td>\n",
              "      <td>3.339564</td>\n",
              "      <td>14.282484</td>\n",
              "      <td>0.625851</td>\n",
              "      <td>0.998859</td>\n",
              "      <td>0.124453</td>\n",
              "      <td>0.572359</td>\n",
              "      <td>2.318286</td>\n",
              "      <td>0.228572</td>\n",
              "      <td>0.709990</td>\n",
              "      <td>314.907474</td>\n",
              "    </tr>\n",
              "    <tr>\n",
              "      <th>min</th>\n",
              "      <td>1.000000</td>\n",
              "      <td>11.030000</td>\n",
              "      <td>0.740000</td>\n",
              "      <td>1.360000</td>\n",
              "      <td>10.600000</td>\n",
              "      <td>70.000000</td>\n",
              "      <td>0.980000</td>\n",
              "      <td>0.340000</td>\n",
              "      <td>0.130000</td>\n",
              "      <td>0.410000</td>\n",
              "      <td>1.280000</td>\n",
              "      <td>0.480000</td>\n",
              "      <td>1.270000</td>\n",
              "      <td>278.000000</td>\n",
              "    </tr>\n",
              "    <tr>\n",
              "      <th>25%</th>\n",
              "      <td>1.000000</td>\n",
              "      <td>12.362500</td>\n",
              "      <td>1.602500</td>\n",
              "      <td>2.210000</td>\n",
              "      <td>17.200000</td>\n",
              "      <td>88.000000</td>\n",
              "      <td>1.742500</td>\n",
              "      <td>1.205000</td>\n",
              "      <td>0.270000</td>\n",
              "      <td>1.250000</td>\n",
              "      <td>3.220000</td>\n",
              "      <td>0.782500</td>\n",
              "      <td>1.937500</td>\n",
              "      <td>500.500000</td>\n",
              "    </tr>\n",
              "    <tr>\n",
              "      <th>50%</th>\n",
              "      <td>2.000000</td>\n",
              "      <td>13.050000</td>\n",
              "      <td>1.865000</td>\n",
              "      <td>2.360000</td>\n",
              "      <td>19.500000</td>\n",
              "      <td>98.000000</td>\n",
              "      <td>2.355000</td>\n",
              "      <td>2.135000</td>\n",
              "      <td>0.340000</td>\n",
              "      <td>1.555000</td>\n",
              "      <td>4.690000</td>\n",
              "      <td>0.965000</td>\n",
              "      <td>2.780000</td>\n",
              "      <td>673.500000</td>\n",
              "    </tr>\n",
              "    <tr>\n",
              "      <th>75%</th>\n",
              "      <td>3.000000</td>\n",
              "      <td>13.677500</td>\n",
              "      <td>3.082500</td>\n",
              "      <td>2.557500</td>\n",
              "      <td>21.500000</td>\n",
              "      <td>107.000000</td>\n",
              "      <td>2.800000</td>\n",
              "      <td>2.875000</td>\n",
              "      <td>0.437500</td>\n",
              "      <td>1.950000</td>\n",
              "      <td>6.200000</td>\n",
              "      <td>1.120000</td>\n",
              "      <td>3.170000</td>\n",
              "      <td>985.000000</td>\n",
              "    </tr>\n",
              "    <tr>\n",
              "      <th>max</th>\n",
              "      <td>3.000000</td>\n",
              "      <td>14.830000</td>\n",
              "      <td>5.800000</td>\n",
              "      <td>3.230000</td>\n",
              "      <td>30.000000</td>\n",
              "      <td>162.000000</td>\n",
              "      <td>3.880000</td>\n",
              "      <td>5.080000</td>\n",
              "      <td>0.660000</td>\n",
              "      <td>3.580000</td>\n",
              "      <td>13.000000</td>\n",
              "      <td>1.710000</td>\n",
              "      <td>4.000000</td>\n",
              "      <td>1680.000000</td>\n",
              "    </tr>\n",
              "  </tbody>\n",
              "</table>\n",
              "</div>\n",
              "      <button class=\"colab-df-convert\" onclick=\"convertToInteractive('df-730367aa-06e8-4368-8001-d0b48bec0616')\"\n",
              "              title=\"Convert this dataframe to an interactive table.\"\n",
              "              style=\"display:none;\">\n",
              "        \n",
              "  <svg xmlns=\"http://www.w3.org/2000/svg\" height=\"24px\"viewBox=\"0 0 24 24\"\n",
              "       width=\"24px\">\n",
              "    <path d=\"M0 0h24v24H0V0z\" fill=\"none\"/>\n",
              "    <path d=\"M18.56 5.44l.94 2.06.94-2.06 2.06-.94-2.06-.94-.94-2.06-.94 2.06-2.06.94zm-11 1L8.5 8.5l.94-2.06 2.06-.94-2.06-.94L8.5 2.5l-.94 2.06-2.06.94zm10 10l.94 2.06.94-2.06 2.06-.94-2.06-.94-.94-2.06-.94 2.06-2.06.94z\"/><path d=\"M17.41 7.96l-1.37-1.37c-.4-.4-.92-.59-1.43-.59-.52 0-1.04.2-1.43.59L10.3 9.45l-7.72 7.72c-.78.78-.78 2.05 0 2.83L4 21.41c.39.39.9.59 1.41.59.51 0 1.02-.2 1.41-.59l7.78-7.78 2.81-2.81c.8-.78.8-2.07 0-2.86zM5.41 20L4 18.59l7.72-7.72 1.47 1.35L5.41 20z\"/>\n",
              "  </svg>\n",
              "      </button>\n",
              "      \n",
              "  <style>\n",
              "    .colab-df-container {\n",
              "      display:flex;\n",
              "      flex-wrap:wrap;\n",
              "      gap: 12px;\n",
              "    }\n",
              "\n",
              "    .colab-df-convert {\n",
              "      background-color: #E8F0FE;\n",
              "      border: none;\n",
              "      border-radius: 50%;\n",
              "      cursor: pointer;\n",
              "      display: none;\n",
              "      fill: #1967D2;\n",
              "      height: 32px;\n",
              "      padding: 0 0 0 0;\n",
              "      width: 32px;\n",
              "    }\n",
              "\n",
              "    .colab-df-convert:hover {\n",
              "      background-color: #E2EBFA;\n",
              "      box-shadow: 0px 1px 2px rgba(60, 64, 67, 0.3), 0px 1px 3px 1px rgba(60, 64, 67, 0.15);\n",
              "      fill: #174EA6;\n",
              "    }\n",
              "\n",
              "    [theme=dark] .colab-df-convert {\n",
              "      background-color: #3B4455;\n",
              "      fill: #D2E3FC;\n",
              "    }\n",
              "\n",
              "    [theme=dark] .colab-df-convert:hover {\n",
              "      background-color: #434B5C;\n",
              "      box-shadow: 0px 1px 3px 1px rgba(0, 0, 0, 0.15);\n",
              "      filter: drop-shadow(0px 1px 2px rgba(0, 0, 0, 0.3));\n",
              "      fill: #FFFFFF;\n",
              "    }\n",
              "  </style>\n",
              "\n",
              "      <script>\n",
              "        const buttonEl =\n",
              "          document.querySelector('#df-730367aa-06e8-4368-8001-d0b48bec0616 button.colab-df-convert');\n",
              "        buttonEl.style.display =\n",
              "          google.colab.kernel.accessAllowed ? 'block' : 'none';\n",
              "\n",
              "        async function convertToInteractive(key) {\n",
              "          const element = document.querySelector('#df-730367aa-06e8-4368-8001-d0b48bec0616');\n",
              "          const dataTable =\n",
              "            await google.colab.kernel.invokeFunction('convertToInteractive',\n",
              "                                                     [key], {});\n",
              "          if (!dataTable) return;\n",
              "\n",
              "          const docLinkHtml = 'Like what you see? Visit the ' +\n",
              "            '<a target=\"_blank\" href=https://colab.research.google.com/notebooks/data_table.ipynb>data table notebook</a>'\n",
              "            + ' to learn more about interactive tables.';\n",
              "          element.innerHTML = '';\n",
              "          dataTable['output_type'] = 'display_data';\n",
              "          await google.colab.output.renderOutput(dataTable, element);\n",
              "          const docLink = document.createElement('div');\n",
              "          docLink.innerHTML = docLinkHtml;\n",
              "          element.appendChild(docLink);\n",
              "        }\n",
              "      </script>\n",
              "    </div>\n",
              "  </div>\n",
              "  "
            ]
          },
          "metadata": {},
          "execution_count": 2
        }
      ]
    },
    {
      "cell_type": "code",
      "metadata": {
        "id": "kOk7gOlsppKA",
        "outputId": "3a22aa14-3014-4ae4-ad29-18b3d6c5ac60",
        "colab": {
          "base_uri": "https://localhost:8080/"
        }
      },
      "source": [
        "\n",
        "import numpy as np\n",
        "X = df[df.columns[1:]].to_numpy(dtype=np.float32)\n",
        "y = df[df.columns[0]].to_numpy()\n",
        "print('X:', X.shape, X.dtype)\n",
        "print('y:', y.shape, y.dtype)"
      ],
      "execution_count": null,
      "outputs": [
        {
          "output_type": "stream",
          "name": "stdout",
          "text": [
            "X: (178, 13) float32\n",
            "y: (178,) int64\n"
          ]
        }
      ]
    },
    {
      "cell_type": "markdown",
      "metadata": {
        "id": "y3U1DCbpP19M"
      },
      "source": [
        "## PCA to de-correlate features"
      ]
    },
    {
      "cell_type": "code",
      "metadata": {
        "id": "U96RR8yuLUJV",
        "outputId": "74105952-2123-4da3-e843-be72d9650af7",
        "colab": {
          "base_uri": "https://localhost:8080/",
          "height": 383
        }
      },
      "source": [
        "from sklearn.decomposition import PCA\n",
        "\n",
        "# Create PCA instance: model\n",
        "model = PCA()\n",
        "\n",
        "# Apply the fit_transform method of model to grains: pca_features\n",
        "X_pca = model.fit_transform(X)\n",
        "print('X_pca:', X_pca.shape)\n",
        "\n",
        "# describe\n",
        "pd.DataFrame(X_pca).describe()"
      ],
      "execution_count": null,
      "outputs": [
        {
          "output_type": "stream",
          "name": "stdout",
          "text": [
            "X_pca: (178, 13)\n"
          ]
        },
        {
          "output_type": "execute_result",
          "data": {
            "text/plain": [
              "               0           1             2             3             4   \\\n",
              "count  178.000000  178.000000  1.780000e+02  1.780000e+02  1.780000e+02   \n",
              "mean     0.000000    0.000003 -1.285853e-07  2.357397e-07  2.678860e-07   \n",
              "std    314.963104   13.135269  3.072152e+00  2.234093e+00  1.108533e+00   \n",
              "min   -469.059296  -27.504026 -9.005075e+00 -5.999351e+00 -3.319481e+00   \n",
              "25%   -246.139977   -8.330378 -1.852034e+00 -1.339166e+00 -6.417685e-01   \n",
              "50%    -73.525394   -3.269235  1.496602e-02  3.110406e-01  8.229639e-02   \n",
              "75%    238.565544    5.449198  2.152860e+00  1.481671e+00  6.736645e-01   \n",
              "max    933.118286   58.793758  9.947130e+00  6.461738e+00  3.811527e+00   \n",
              "\n",
              "                 5             6             7             8             9   \\\n",
              "count  1.780000e+02  1.780000e+02  1.780000e+02  1.780000e+02  1.780000e+02   \n",
              "mean  -2.484643e-07  8.572354e-07  3.482519e-07  1.242322e-07 -1.242322e-07   \n",
              "std    9.170941e-01  5.281796e-01  3.890775e-01  3.348086e-01  2.677734e-01   \n",
              "min   -1.954749e+00 -1.568975e+00 -1.269572e+00 -7.940771e-01 -8.818138e-01   \n",
              "25%   -6.234646e-01 -3.426479e-01 -2.776329e-01 -2.497484e-01 -1.682080e-01   \n",
              "50%   -9.193971e-02 -4.381787e-03  3.975998e-02 -1.786348e-03 -5.527498e-03   \n",
              "75%    5.145356e-01  3.724663e-01  2.548769e-01  2.033302e-01  1.423484e-01   \n",
              "max    3.596516e+00  1.843119e+00  1.403566e+00  8.592651e-01  9.470227e-01   \n",
              "\n",
              "                 10            11            12  \n",
              "count  1.780000e+02  1.780000e+02  1.780000e+02  \n",
              "mean  -1.247344e-08 -6.697151e-09 -5.692578e-09  \n",
              "std    1.938450e-01  1.451631e-01  9.057434e-02  \n",
              "min   -5.020868e-01 -3.933636e-01 -2.643943e-01  \n",
              "25%   -1.229378e-01 -8.343323e-02 -5.130639e-02  \n",
              "50%   -5.216143e-03 -2.235730e-02 -1.028140e-03  \n",
              "75%    1.249637e-01  8.778018e-02  4.887855e-02  \n",
              "max    5.406679e-01  6.242122e-01  3.286479e-01  "
            ],
            "text/html": [
              "\n",
              "  <div id=\"df-97ed5b1a-9701-4230-8ac9-d0afa6079b76\">\n",
              "    <div class=\"colab-df-container\">\n",
              "      <div>\n",
              "<style scoped>\n",
              "    .dataframe tbody tr th:only-of-type {\n",
              "        vertical-align: middle;\n",
              "    }\n",
              "\n",
              "    .dataframe tbody tr th {\n",
              "        vertical-align: top;\n",
              "    }\n",
              "\n",
              "    .dataframe thead th {\n",
              "        text-align: right;\n",
              "    }\n",
              "</style>\n",
              "<table border=\"1\" class=\"dataframe\">\n",
              "  <thead>\n",
              "    <tr style=\"text-align: right;\">\n",
              "      <th></th>\n",
              "      <th>0</th>\n",
              "      <th>1</th>\n",
              "      <th>2</th>\n",
              "      <th>3</th>\n",
              "      <th>4</th>\n",
              "      <th>5</th>\n",
              "      <th>6</th>\n",
              "      <th>7</th>\n",
              "      <th>8</th>\n",
              "      <th>9</th>\n",
              "      <th>10</th>\n",
              "      <th>11</th>\n",
              "      <th>12</th>\n",
              "    </tr>\n",
              "  </thead>\n",
              "  <tbody>\n",
              "    <tr>\n",
              "      <th>count</th>\n",
              "      <td>178.000000</td>\n",
              "      <td>178.000000</td>\n",
              "      <td>1.780000e+02</td>\n",
              "      <td>1.780000e+02</td>\n",
              "      <td>1.780000e+02</td>\n",
              "      <td>1.780000e+02</td>\n",
              "      <td>1.780000e+02</td>\n",
              "      <td>1.780000e+02</td>\n",
              "      <td>1.780000e+02</td>\n",
              "      <td>1.780000e+02</td>\n",
              "      <td>1.780000e+02</td>\n",
              "      <td>1.780000e+02</td>\n",
              "      <td>1.780000e+02</td>\n",
              "    </tr>\n",
              "    <tr>\n",
              "      <th>mean</th>\n",
              "      <td>0.000000</td>\n",
              "      <td>0.000003</td>\n",
              "      <td>-1.285853e-07</td>\n",
              "      <td>2.357397e-07</td>\n",
              "      <td>2.678860e-07</td>\n",
              "      <td>-2.484643e-07</td>\n",
              "      <td>8.572354e-07</td>\n",
              "      <td>3.482519e-07</td>\n",
              "      <td>1.242322e-07</td>\n",
              "      <td>-1.242322e-07</td>\n",
              "      <td>-1.247344e-08</td>\n",
              "      <td>-6.697151e-09</td>\n",
              "      <td>-5.692578e-09</td>\n",
              "    </tr>\n",
              "    <tr>\n",
              "      <th>std</th>\n",
              "      <td>314.963104</td>\n",
              "      <td>13.135269</td>\n",
              "      <td>3.072152e+00</td>\n",
              "      <td>2.234093e+00</td>\n",
              "      <td>1.108533e+00</td>\n",
              "      <td>9.170941e-01</td>\n",
              "      <td>5.281796e-01</td>\n",
              "      <td>3.890775e-01</td>\n",
              "      <td>3.348086e-01</td>\n",
              "      <td>2.677734e-01</td>\n",
              "      <td>1.938450e-01</td>\n",
              "      <td>1.451631e-01</td>\n",
              "      <td>9.057434e-02</td>\n",
              "    </tr>\n",
              "    <tr>\n",
              "      <th>min</th>\n",
              "      <td>-469.059296</td>\n",
              "      <td>-27.504026</td>\n",
              "      <td>-9.005075e+00</td>\n",
              "      <td>-5.999351e+00</td>\n",
              "      <td>-3.319481e+00</td>\n",
              "      <td>-1.954749e+00</td>\n",
              "      <td>-1.568975e+00</td>\n",
              "      <td>-1.269572e+00</td>\n",
              "      <td>-7.940771e-01</td>\n",
              "      <td>-8.818138e-01</td>\n",
              "      <td>-5.020868e-01</td>\n",
              "      <td>-3.933636e-01</td>\n",
              "      <td>-2.643943e-01</td>\n",
              "    </tr>\n",
              "    <tr>\n",
              "      <th>25%</th>\n",
              "      <td>-246.139977</td>\n",
              "      <td>-8.330378</td>\n",
              "      <td>-1.852034e+00</td>\n",
              "      <td>-1.339166e+00</td>\n",
              "      <td>-6.417685e-01</td>\n",
              "      <td>-6.234646e-01</td>\n",
              "      <td>-3.426479e-01</td>\n",
              "      <td>-2.776329e-01</td>\n",
              "      <td>-2.497484e-01</td>\n",
              "      <td>-1.682080e-01</td>\n",
              "      <td>-1.229378e-01</td>\n",
              "      <td>-8.343323e-02</td>\n",
              "      <td>-5.130639e-02</td>\n",
              "    </tr>\n",
              "    <tr>\n",
              "      <th>50%</th>\n",
              "      <td>-73.525394</td>\n",
              "      <td>-3.269235</td>\n",
              "      <td>1.496602e-02</td>\n",
              "      <td>3.110406e-01</td>\n",
              "      <td>8.229639e-02</td>\n",
              "      <td>-9.193971e-02</td>\n",
              "      <td>-4.381787e-03</td>\n",
              "      <td>3.975998e-02</td>\n",
              "      <td>-1.786348e-03</td>\n",
              "      <td>-5.527498e-03</td>\n",
              "      <td>-5.216143e-03</td>\n",
              "      <td>-2.235730e-02</td>\n",
              "      <td>-1.028140e-03</td>\n",
              "    </tr>\n",
              "    <tr>\n",
              "      <th>75%</th>\n",
              "      <td>238.565544</td>\n",
              "      <td>5.449198</td>\n",
              "      <td>2.152860e+00</td>\n",
              "      <td>1.481671e+00</td>\n",
              "      <td>6.736645e-01</td>\n",
              "      <td>5.145356e-01</td>\n",
              "      <td>3.724663e-01</td>\n",
              "      <td>2.548769e-01</td>\n",
              "      <td>2.033302e-01</td>\n",
              "      <td>1.423484e-01</td>\n",
              "      <td>1.249637e-01</td>\n",
              "      <td>8.778018e-02</td>\n",
              "      <td>4.887855e-02</td>\n",
              "    </tr>\n",
              "    <tr>\n",
              "      <th>max</th>\n",
              "      <td>933.118286</td>\n",
              "      <td>58.793758</td>\n",
              "      <td>9.947130e+00</td>\n",
              "      <td>6.461738e+00</td>\n",
              "      <td>3.811527e+00</td>\n",
              "      <td>3.596516e+00</td>\n",
              "      <td>1.843119e+00</td>\n",
              "      <td>1.403566e+00</td>\n",
              "      <td>8.592651e-01</td>\n",
              "      <td>9.470227e-01</td>\n",
              "      <td>5.406679e-01</td>\n",
              "      <td>6.242122e-01</td>\n",
              "      <td>3.286479e-01</td>\n",
              "    </tr>\n",
              "  </tbody>\n",
              "</table>\n",
              "</div>\n",
              "      <button class=\"colab-df-convert\" onclick=\"convertToInteractive('df-97ed5b1a-9701-4230-8ac9-d0afa6079b76')\"\n",
              "              title=\"Convert this dataframe to an interactive table.\"\n",
              "              style=\"display:none;\">\n",
              "        \n",
              "  <svg xmlns=\"http://www.w3.org/2000/svg\" height=\"24px\"viewBox=\"0 0 24 24\"\n",
              "       width=\"24px\">\n",
              "    <path d=\"M0 0h24v24H0V0z\" fill=\"none\"/>\n",
              "    <path d=\"M18.56 5.44l.94 2.06.94-2.06 2.06-.94-2.06-.94-.94-2.06-.94 2.06-2.06.94zm-11 1L8.5 8.5l.94-2.06 2.06-.94-2.06-.94L8.5 2.5l-.94 2.06-2.06.94zm10 10l.94 2.06.94-2.06 2.06-.94-2.06-.94-.94-2.06-.94 2.06-2.06.94z\"/><path d=\"M17.41 7.96l-1.37-1.37c-.4-.4-.92-.59-1.43-.59-.52 0-1.04.2-1.43.59L10.3 9.45l-7.72 7.72c-.78.78-.78 2.05 0 2.83L4 21.41c.39.39.9.59 1.41.59.51 0 1.02-.2 1.41-.59l7.78-7.78 2.81-2.81c.8-.78.8-2.07 0-2.86zM5.41 20L4 18.59l7.72-7.72 1.47 1.35L5.41 20z\"/>\n",
              "  </svg>\n",
              "      </button>\n",
              "      \n",
              "  <style>\n",
              "    .colab-df-container {\n",
              "      display:flex;\n",
              "      flex-wrap:wrap;\n",
              "      gap: 12px;\n",
              "    }\n",
              "\n",
              "    .colab-df-convert {\n",
              "      background-color: #E8F0FE;\n",
              "      border: none;\n",
              "      border-radius: 50%;\n",
              "      cursor: pointer;\n",
              "      display: none;\n",
              "      fill: #1967D2;\n",
              "      height: 32px;\n",
              "      padding: 0 0 0 0;\n",
              "      width: 32px;\n",
              "    }\n",
              "\n",
              "    .colab-df-convert:hover {\n",
              "      background-color: #E2EBFA;\n",
              "      box-shadow: 0px 1px 2px rgba(60, 64, 67, 0.3), 0px 1px 3px 1px rgba(60, 64, 67, 0.15);\n",
              "      fill: #174EA6;\n",
              "    }\n",
              "\n",
              "    [theme=dark] .colab-df-convert {\n",
              "      background-color: #3B4455;\n",
              "      fill: #D2E3FC;\n",
              "    }\n",
              "\n",
              "    [theme=dark] .colab-df-convert:hover {\n",
              "      background-color: #434B5C;\n",
              "      box-shadow: 0px 1px 3px 1px rgba(0, 0, 0, 0.15);\n",
              "      filter: drop-shadow(0px 1px 2px rgba(0, 0, 0, 0.3));\n",
              "      fill: #FFFFFF;\n",
              "    }\n",
              "  </style>\n",
              "\n",
              "      <script>\n",
              "        const buttonEl =\n",
              "          document.querySelector('#df-97ed5b1a-9701-4230-8ac9-d0afa6079b76 button.colab-df-convert');\n",
              "        buttonEl.style.display =\n",
              "          google.colab.kernel.accessAllowed ? 'block' : 'none';\n",
              "\n",
              "        async function convertToInteractive(key) {\n",
              "          const element = document.querySelector('#df-97ed5b1a-9701-4230-8ac9-d0afa6079b76');\n",
              "          const dataTable =\n",
              "            await google.colab.kernel.invokeFunction('convertToInteractive',\n",
              "                                                     [key], {});\n",
              "          if (!dataTable) return;\n",
              "\n",
              "          const docLinkHtml = 'Like what you see? Visit the ' +\n",
              "            '<a target=\"_blank\" href=https://colab.research.google.com/notebooks/data_table.ipynb>data table notebook</a>'\n",
              "            + ' to learn more about interactive tables.';\n",
              "          element.innerHTML = '';\n",
              "          dataTable['output_type'] = 'display_data';\n",
              "          await google.colab.output.renderOutput(dataTable, element);\n",
              "          const docLink = document.createElement('div');\n",
              "          docLink.innerHTML = docLinkHtml;\n",
              "          element.appendChild(docLink);\n",
              "        }\n",
              "      </script>\n",
              "    </div>\n",
              "  </div>\n",
              "  "
            ]
          },
          "metadata": {},
          "execution_count": 6
        }
      ]
    },
    {
      "cell_type": "markdown",
      "metadata": {
        "id": "GctJAT_4S0vK"
      },
      "source": [
        "### Visualizing the correlation (before and after)"
      ]
    },
    {
      "cell_type": "code",
      "metadata": {
        "id": "P-rzhCXURoqR"
      },
      "source": [
        "# https://towardsdatascience.com/better-heatmaps-and-correlation-matrix-plots-in-python-41445d0f2bec\n",
        "import matplotlib.pyplot as plt\n",
        "def heatmap(x, y, size, ax=None):\n",
        "    if ax is None:\n",
        "      fig, ax = plt.subplots()\n",
        "\n",
        "    # Mapping from column names to integer coordinates\n",
        "    x_labels = [v for v in sorted(x.unique())]\n",
        "    y_labels = [v for v in sorted(y.unique())]\n",
        "    x_to_num = {p[1]:p[0] for p in enumerate(x_labels)}\n",
        "    y_to_num = {p[1]:p[0] for p in enumerate(y_labels)}\n",
        "\n",
        "    size_scale = 500\n",
        "    ax.scatter(\n",
        "        x=x.map(x_to_num), # Use mapping for x\n",
        "        y=y.map(y_to_num), # Use mapping for y\n",
        "        s=size * size_scale, # Vector of square sizes, proportional to size parameter\n",
        "        marker='s' # Use square as scatterplot marker\n",
        "    )\n",
        "\n",
        "    # Show column labels on the axes\n",
        "    ax.set_xticks([x_to_num[v] for v in x_labels])\n",
        "    ax.set_xticklabels(x_labels, rotation=45, horizontalalignment='right')\n",
        "    ax.set_yticks([y_to_num[v] for v in y_labels])\n",
        "    ax.set_yticklabels(y_labels)\n",
        "    return ax\n",
        "\n",
        "def correlation_map(X, ax=None):\n",
        "  df = pd.DataFrame(X)\n",
        "  corr = df.corr()\n",
        "  corr = pd.melt(corr.reset_index(), id_vars='index') # Unpivot the dataframe, so we can get pair of arrays for x and y\n",
        "  corr.columns = ['x', 'y', 'value']\n",
        "  heatmap(\n",
        "      x=corr['x'],\n",
        "      y=corr['y'],\n",
        "      size=corr['value'].abs(),\n",
        "      ax=ax,\n",
        "  )"
      ],
      "execution_count": null,
      "outputs": []
    },
    {
      "cell_type": "code",
      "metadata": {
        "id": "IOVVshM2S-Yo",
        "outputId": "7a478abd-1aa5-467b-a0d2-69b0947cb2da",
        "colab": {
          "base_uri": "https://localhost:8080/",
          "height": 441
        }
      },
      "source": [
        "fig, ax = plt.subplots(ncols=2, figsize=(15, 7))\n",
        "ax[0].set_title('Feature correlation before PCA')\n",
        "ax[1].set_title('Feature correlation after PCA')\n",
        "correlation_map(X, ax[0])\n",
        "correlation_map(X_pca, ax[1])"
      ],
      "execution_count": null,
      "outputs": [
        {
          "output_type": "display_data",
          "data": {
            "text/plain": [
              "<Figure size 1080x504 with 2 Axes>"
            ],
            "image/png": "[encoded data removed]"
          },
          "metadata": {
            "needs_background": "light"
          }
        }
      ]
    },
    {
      "cell_type": "markdown",
      "metadata": {
        "id": "rtGKVzwxTiJC"
      },
      "source": [
        "## PCA to reduce dimension of the data"
      ]
    },
    {
      "cell_type": "code",
      "metadata": {
        "id": "-5cC_OmnyLn6",
        "outputId": "04b7aea6-efb8-41b7-835c-dab9ffbfd0cc",
        "colab": {
          "base_uri": "https://localhost:8080/"
        }
      },
      "source": [
        "# reduce to 2 dimensions\n",
        "model = PCA(n_components=2)\n",
        "# Fit model to points\n",
        "X_pca = model.fit_transform(X)\n",
        "print('X_pca:', X_pca.shape)"
      ],
      "execution_count": null,
      "outputs": [
        {
          "output_type": "stream",
          "name": "stdout",
          "text": [
            "X_pca: (178, 2)\n"
          ]
        }
      ]
    },
    {
      "cell_type": "markdown",
      "metadata": {
        "id": "4wsQGqc3UEkN"
      },
      "source": [
        "### 2D scatter plot (not very good)"
      ]
    },
    {
      "cell_type": "code",
      "metadata": {
        "id": "h6dEtYdYUDdq",
        "outputId": "fc28e7bc-3af9-4570-fd31-3f7174e19b2c",
        "colab": {
          "base_uri": "https://localhost:8080/",
          "height": 283
        }
      },
      "source": [
        "plt.axis(\"equal\")\n",
        "plt.scatter(X_pca[:,0], X_pca[:,1])"
      ],
      "execution_count": null,
      "outputs": [
        {
          "output_type": "execute_result",
          "data": {
            "text/plain": [
              "<matplotlib.collections.PathCollection at 0x7fc040afe8e0>"
            ]
          },
          "metadata": {},
          "execution_count": 13
        },
        {
          "output_type": "display_data",
          "data": {
            "text/plain": [
              "<Figure size 432x288 with 1 Axes>"
            ],
            "image/png": "[encoded data removed]"
          },
          "metadata": {
            "needs_background": "light"
          }
        }
      ]
    },
    {
      "cell_type": "markdown",
      "metadata": {
        "id": "is_Teg2ZUEBA"
      },
      "source": [
        "## Selecting the number of components?"
      ]
    },
    {
      "cell_type": "markdown",
      "metadata": {
        "id": "Wnjc2tZ7UuA6"
      },
      "source": [
        "### Explained variances = How good are the principal components\n",
        "\n",
        "The first component explained ~100% of variance because the dataset has one feature (number 13) that \"dominates\" the variance.\n",
        "\n",
        "This is unrealistic."
      ]
    },
    {
      "cell_type": "markdown",
      "metadata": {
        "id": "EAiTSrabWeXk"
      },
      "source": [
        "A better picture could be obtained by standardizing the feature first."
      ]
    },
    {
      "cell_type": "code",
      "metadata": {
        "id": "fqmMCM5tCSKr",
        "outputId": "dfa13f65-1931-44cf-890d-51af69101aef",
        "colab": {
          "base_uri": "https://localhost:8080/",
          "height": 279
        }
      },
      "source": [
        "model = PCA()\n",
        "X_pca = model.fit_transform(X)\n",
        "cols = list(df.columns[1:])\n",
        "plt.bar(cols, model.explained_variance_ratio_)\n",
        "plt.xlabel('PCA feature')\n",
        "plt.ylabel('variance')\n",
        "plt.xticks(cols)\n",
        "plt.show()"
      ],
      "execution_count": null,
      "outputs": [
        {
          "output_type": "display_data",
          "data": {
            "text/plain": [
              "<Figure size 432x288 with 1 Axes>"
            ],
            "image/png": "[encoded data removed]"
          },
          "metadata": {
            "needs_background": "light"
          }
        }
      ]
    },
    {
      "cell_type": "code",
      "metadata": {
        "id": "P2FhOmtpA8UH",
        "outputId": "8ed96b7e-573d-4934-96b3-44711b4a813d",
        "colab": {
          "base_uri": "https://localhost:8080/",
          "height": 279
        }
      },
      "source": [
        "from sklearn.preprocessing import StandardScaler\n",
        "scaler = StandardScaler()\n",
        "_X = scaler.fit_transform(X)\n",
        "model = PCA()\n",
        "X_pca = model.fit_transform(_X)\n",
        "\n",
        "cols = list(df.columns[1:])\n",
        "plt.bar(cols, model.explained_variance_ratio_)\n",
        "plt.xlabel('PCA feature')\n",
        "plt.ylabel('variance')\n",
        "plt.xticks(cols)\n",
        "plt.show()"
      ],
      "execution_count": null,
      "outputs": [
        {
          "output_type": "display_data",
          "data": {
            "text/plain": [
              "<Figure size 432x288 with 1 Axes>"
            ],
            "image/png": "[encoded data removed]"
          },
          "metadata": {
            "needs_background": "light"
          }
        }
      ]
    },
    {
      "cell_type": "code",
      "metadata": {
        "id": "WC-7cxHPfaa3",
        "outputId": "1a50be1b-1b31-4f75-bb11-cf61914ecba5",
        "colab": {
          "base_uri": "https://localhost:8080/"
        }
      },
      "source": [
        "print('each explain the variance of the dataset by:', model.explained_variance_ratio_)"
      ],
      "execution_count": null,
      "outputs": [
        {
          "output_type": "stream",
          "name": "stdout",
          "text": [
            "each explain the variance of the dataset by: [0.36198848 0.19207492 0.11123632 0.07069027 0.06563288 0.04935824\n",
            " 0.04238679 0.0268075  0.02222151 0.0193002  0.01736836 0.01298231\n",
            " 0.00795215]\n"
          ]
        }
      ]
    },
    {
      "cell_type": "code",
      "metadata": {
        "id": "LzkkefJUbizf",
        "outputId": "8a58d0b9-6192-4e50-9a51-fa107c56f769",
        "colab": {
          "base_uri": "https://localhost:8080/",
          "height": 542
        }
      },
      "source": [
        "import plotly.express as px\n",
        "\n",
        "labels = {\n",
        "    str(i): f\"PC {i+1} ({var:.1f}%)\"\n",
        "    for i, var in enumerate(model.explained_variance_ratio_ * 100)\n",
        "}\n",
        "\n",
        "fig = px.scatter_matrix(\n",
        "    X_pca,\n",
        "    labels=labels,\n",
        "    dimensions=range(4),\n",
        "    color=df[0]\n",
        ")\n",
        "fig.update_traces(diagonal_visible=False)\n",
        "fig.show()"
      ],
      "execution_count": null,
      "outputs": [
        {
          "output_type": "display_data",
          "data": {
            "text/html": [
              "<html>\n",
              "<head><meta charset=\"utf-8\" /></head>\n",
              "<body>\n",
              "    <div>            <script src=\"https://cdnjs.cloudflare.com/ajax/libs/mathjax/2.7.5/MathJax.js?config=TeX-AMS-MML_SVG\"></script><script type=\"text/javascript\">if (window.MathJax && window.MathJax.Hub && window.MathJax.Hub.Config) {window.MathJax.Hub.Config({SVG: {font: \"STIX-Web\"}});}</script>                <script type=\"text/javascript\">window.PlotlyConfig = {MathJaxConfig: 'local'};</script>\n",
              "        <script src=\"https://cdn.plot.ly/plotly-2.18.2.min.js\"></script>                <div id=\"b4c41b96-2a9a-4987-ac97-1d580a4c6f06\" class=\"plotly-graph-div\" style=\"height:525px; width:100%;\"></div>            <script type=\"text/javascript\">                                    window.PLOTLYENV=window.PLOTLYENV || {};                                    if (document.getElementById(\"b4c41b96-2a9a-4987-ac97-1d580a4c6f06\")) {                    Plotly.newPlot(                        \"b4c41b96-2a9a-4987-ac97-1d580a4c6f06\",                        [{\"dimensions\":[{\"axis\":{\"matches\":true},\"label\":\"PC 1 (36.2%)\",\"values\":[3.3167500495910645,2.2094671726226807,2.5167412757873535,3.757066249847412,1.0089088678359985,3.050252914428711,2.4490883350372314,2.059436321258545,2.510873556137085,2.7536280155181885,3.479736089706421,1.7547523975372314,2.113461971282959,3.4581565856933594,4.3127827644348145,2.305187702178955,2.171955108642578,1.898970365524292,3.5419840812683105,2.084521770477295,3.1244029998779297,1.0865700244903564,2.535224437713623,1.6449893712997437,1.761576533317566,0.9900803565979004,1.7752776145935059,1.2354238033294678,2.1884069442749023,2.2561089992523193,2.50022029876709,2.67741060256958,1.6285793781280518,1.9026910066604614,1.410388469696045,1.903826355934143,1.3848627805709839,1.1222076416015625,1.5021947622299194,2.5297999382019043,2.5880956649780273,0.6684808731079102,3.0708067417144775,0.4622083902359009,2.1013522148132324,1.1361641883850098,2.726599931716919,2.8213388919830322,2.0098507404327393,2.7074906826019287,3.2149171829223633,2.858959436416626,3.5056040287017822,2.2247912883758545,2.1469876766204834,2.469329595565796,2.741518259048462,2.1737406253814697,3.1393799781799316,-0.9285811185836792,-1.5424792766571045,-1.8362494707107544,0.030607406049966812,2.050262928009033,-0.6096791625022888,0.9002289175987244,2.2485079765319824,0.18338464200496674,-0.8128041625022888,1.9756217002868652,-1.5722157955169678,1.6576827764511108,-0.725372314453125,2.562228202819824,1.8325697183609009,-0.8679922223091125,0.37001538276672363,-1.457376480102539,1.2629314661026,0.3761504888534546,0.7620657682418823,1.0345789194107056,-0.4948749244213104,-2.538978338241577,0.8353220820426941,0.7879065871238708,-0.8068307638168335,-0.5580408573150635,-1.115109920501709,-0.5557211637496948,-1.3492839336395264,-1.564481496810913,-1.932555079460144,0.7466670274734497,0.9574570059776306,2.5438668727874756,-0.5439513921737671,1.0310512781143188,2.25191068649292,1.4102169275283813,0.7977204918861389,-0.549530565738678,-0.1611727774143219,-0.659793496131897,0.39235520362854004,-1.7724984884262085,-0.3662664294242859,-1.6206721067428589,0.082537442445755,1.5782769918441772,1.4205706119537354,-0.27870190143585205,-1.3031445741653442,-0.4570696949958801,-0.4941841959953308,0.48207709193229675,-0.25288739800453186,-0.10722614824771881,-2.433013677597046,-0.5510891675949097,0.7396231889724731,1.3363233804702759,-1.177086591720581,-0.4623362720012665,0.9784745573997498,-0.09680874645709991,0.038488321006298065,-1.5971570014953613,-0.47956350445747375,-1.7928338050842285,-1.3271015882492065,-2.3845016956329346,-2.936940908432007,-2.1468122005462646,-2.369868755340576,-3.063842296600342,-3.915754795074463,-3.936464786529541,-3.0942776203155518,-2.374471426010132,-2.778813600540161,-2.286562204360962,-2.9856338500976562,-2.3751962184906006,-2.209867000579834,-2.625622034072876,-4.280642032623291,-3.5826427936553955,-2.80706524848938,-2.8996615409851074,-2.3207385540008545,-2.549832820892334,-1.8125413656234741,-2.7601466178894043,-2.7371504306793213,-3.6048712730407715,-2.8898277282714844,-3.3921570777893066,-1.0481828451156616,-1.6099134683609009,-3.143132448196411,-2.2401576042175293,-2.847674608230591,-2.5974979400634766,-2.949301242828369,-3.530033826828003,-2.4061129093170166,-2.929086208343506,-2.1814141273498535,-2.380929470062256,-3.211617946624756,-3.677919626235962,-2.465557336807251,-3.3705272674560547,-2.6019577980041504,-2.677842140197754,-2.3870184421539307,-3.2087602615356445]},{\"axis\":{\"matches\":true},\"label\":\"PC 2 (19.2%)\",\"values\":[-1.4434620141983032,0.33339205384254456,-1.031152606010437,-2.7563726902008057,-0.8698306679725647,-2.1224024295806885,-1.1748521327972412,-1.6089633703231812,-0.9180716872215271,-0.7894381284713745,-1.3023344278335571,-0.6119776964187622,-0.6757072806358337,-1.1306312084197998,-2.095977306365967,-1.6625529527664185,-2.327305555343628,-1.6313687562942505,-2.5183444023132324,-1.0611392259597778,-0.7868977189064026,-0.24174466729164124,0.09184016287326813,0.516278088092804,0.31714895367622375,-0.9406667351722717,-0.6861761212348938,0.08980613946914673,-0.6895696520805359,-0.19146303832530975,-1.2408336400985718,-1.4718741178512573,-0.052704840898513794,-1.6330605745315552,-0.697934627532959,-0.17671096324920654,-0.6586401462554932,-0.11411026865243912,0.7694315314292908,-1.8030030727386475,-0.7796168923377991,-0.1699616014957428,-1.1559200286865234,-0.33074280619621277,0.07100848853588104,-1.7771083116531372,-1.1913361549377441,-0.6462588906288147,-1.2470297813415527,-1.7519680261611938,-0.16699357330799103,-0.7452797889709473,-1.6127350330352783,-1.875169277191162,-1.016751766204834,-1.3290085792541504,-1.4365493059158325,-1.2122008800506592,-1.7315802574157715,3.073485851287842,1.381443977355957,0.8299843072891235,1.2627863883972168,1.9250324964523315,1.908058762550354,0.7639116644859314,1.884591817855835,2.4271464347839355,0.22051462531089783,1.403283715248108,0.884984016418457,0.9567127823829651,1.0636465549468994,-0.2601969540119171,1.2878787517547607,2.444100856781006,2.153907060623169,1.383351445198059,0.7708497047424316,1.027043342590332,3.375053644180298,1.4507092237472534,2.381244659423828,0.08744361251592636,1.4736707210540771,2.0266268253326416,2.2338314056396484,2.372986316680908,1.8022472858428955,2.657541036605835,2.1180014610290527,1.8522151708602905,1.5594964027404785,2.3129310607910156,2.2235279083251953,-0.16927365958690643,0.3689272403717041,2.5655689239501953,1.4327411651611328,2.1661906242370605,2.376948356628418,2.293128728866577,1.1644834280014038,2.679961681365967,2.098731517791748,1.7172889709472656,2.169353485107422,1.3555840253829956,2.3062353134155273,1.462033987045288,1.4182060956954956,1.9305680990219116,0.7631718516349792,2.269416093826294,1.9390456676483154,3.87178373336792,2.821492910385132,1.9289227724075317,1.2571405172348022,2.222161054611206,1.4089566469192505,-0.2533366084098816,0.6639672517776489,0.6182873249053955,1.4455698728561401,2.1099982261657715,1.266762375831604,1.2081449031829834,1.9388420581817627,1.1502879858016968,-0.17038802802562714,-0.37458229064941406,-0.263860821723938,-0.3682543933391571,0.4596354067325592,-0.35341277718544006,-0.15458247065544128,-0.6596869230270386,-0.3488421142101288,-0.2919793426990509,-0.28680428862571716,-0.37250709533691406,-0.4892176389694214,-0.482333779335022,-1.16005277633667,-0.5631601810455322,-0.6496707201004028,-1.272702932357788,-1.5705331563949585,-2.041055917739868,-2.3563647270202637,-2.0452826023101807,-1.5276439189910889,-2.1389319896698,-0.40988484025001526,-1.8023842573165894,-1.925218939781189,-1.3118747472763062,-3.5150885581970215,-2.40663743019104,-0.7381607890129089,-1.1754647493362427,-0.5560434460639954,-0.6979654431343079,-1.5553079843521118,-0.8825262188911438,-2.592355489730835,-1.274446964263916,-2.077536106109619,-2.5886666774749756,0.2512497901916504,-0.8477476239204407,-2.1937975883483887,-2.216289758682251,-1.7572283744812012,-2.760899305343628,-2.2973461151123047,-2.768918991088867]},{\"axis\":{\"matches\":true},\"label\":\"PC 3 (11.1%)\",\"values\":[-0.16573865711688995,-2.0264570713043213,0.9828208088874817,-0.17619174718856812,2.0266880989074707,-0.6293961405754089,-0.9770948886871338,0.1462809145450592,-1.770969033241272,-0.9842473268508911,-0.42273539304733276,-1.190879464149475,-0.8650864958763123,-1.2042760848999023,-1.2639124393463135,0.2179020196199417,0.8317291736602783,0.7949125170707703,-0.48545897006988525,-0.16474561393260956,-0.36488741636276245,0.9369632601737976,-0.31193265318870544,0.14388462901115417,0.8902853727340698,3.8209075927734375,-0.08670073002576828,-1.3868967294692993,1.394566297531128,-1.0926573276519775,1.3860175609588623,-0.33226221799850464,-0.1671297699213028,1.1720800399780273,0.47974225878715515,0.45083555579185486,0.4584374725818634,-0.03910817578434944,-1.4261783361434937,-0.34315061569213867,-0.11847732961177826,-0.7833614349365234,-0.3127575218677521,-0.20147475600242615,-0.6558490991592407,0.028706928715109825,-0.5397720336914062,-1.1555520296096802,-0.057293880730867386,-0.6431136727333069,-1.973570704460144,0.004719345364719629,-0.5207740664482117,0.3395490050315857,-0.9577628374099731,0.5134374499320984,-0.6124736666679382,0.2617793679237366,-0.28566133975982666,-4.58506441116333,-0.8746859431266785,-1.6057040691375732,-1.784409761428833,-0.0073685008101165295,0.679356038570404,0.5733605623245239,-2.031838893890381,-1.0697457790374756,-0.7070083618164062,-1.2382780313491821,-0.6289991736412048,1.9525843858718872,0.08033197373151779,3.3743927478790283,0.45827969908714294,-1.5633341073989868,-2.4493868350982666,-0.22730717062950134,-1.1842256784439087,1.7944674491882324,-0.357470840215683,-0.36301177740097046,1.3357417583465576,0.47425174713134766,0.6100938320159912,-0.2547243535518646,0.7728543281555176,2.3076107501983643,0.9592530131340027,0.8491265177726746,-0.04765307530760765,0.7810664176940918,-0.08927560597658157,0.11468100547790527,0.14244504272937775,0.7886956334114075,1.3088946342468262,-1.0863903760910034,-0.23020824790000916,0.748897135257721,-1.5681127309799194,-1.4989361763000488,1.003713846206665,-0.764921247959137,-0.47185003757476807,0.9470331072807312,-0.4813242554664612,0.28715839982032776,-0.46357500553131104,1.7796465158462524,0.1392785757780075,0.0786711573600769,1.9995956420898438,1.0613378286361694,1.3239377737045288,1.3442699909210205,-0.30264008045196533,0.6901478171348572,-1.9030267000198364,-0.35622769594192505,1.1253466606140137,5.345387935638428,3.010223388671875,0.48344624042510986,1.4812408685684204,0.4348270297050476,0.6875784397125244,3.361175298690796,1.2965073585510254,0.7828020453453064,-1.180014729499817,-0.723822295665741,-0.1676398366689682,-0.45330101251602173,-1.1014010906219482,-1.099124789237976,0.2218281328678131,1.7122169733047485,-1.0268313884735107,1.2419133186340332,0.6096693873405457,-0.9716434478759766,0.946952223777771,-0.2528831660747528,-1.245124101638794,-0.8559607267379761,-1.4581953287124634,-0.11078248172998428,-0.47252699732780457,-0.49595892429351807,0.4376821219921112,-0.3122674226760864,1.3625894784927368,-0.9646281003952026,-1.1904059648513794,-0.09403549879789352,-0.7823209166526794,1.6020259857177734,1.160038948059082,0.5485601425170898,-0.09099739789962769,-0.10137753188610077,0.8042144179344177,-0.8849395513534546,-0.9834005832672119,-0.4660281538963318,0.4282265603542328,-1.21335768699646,0.7637823224067688,1.4180452823638916,-0.8471291661262512,-1.3394204378128052,-0.9187808036804199,-0.3425676226615906,0.20758190751075745,-0.9409412741661072,-0.5506970882415771,1.0139145851135254]},{\"axis\":{\"matches\":true},\"label\":\"PC 4 (7.1%)\",\"values\":[-0.21563391387462616,-0.2913569509983063,0.7249035239219666,0.5679845213890076,-0.4097684621810913,-0.5156348347663879,-0.06582756340503693,-1.1926095485687256,0.05627269297838211,0.3493836224079132,0.026842724531888962,-0.8901616334915161,-0.3564336597919464,0.16246452927589417,0.3057779371738434,-1.4405888319015503,-0.9126022458076477,-1.0823794603347778,-0.9103187918663025,0.4849932789802551,-0.025565369054675102,1.0299071073532104,-0.048391036689281464,-0.4137188494205475,-0.11511551588773727,-1.3215644359588623,-0.2329033464193344,-0.4956809878349304,-0.7774912714958191,0.28615400195121765,-0.36686328053474426,-0.34935271739959717,-0.7493126392364502,-2.3404300212860107,-1.0600874423980713,0.28411343693733215,-1.2846578359603882,-0.9563997983932495,-0.7575067281723022,1.1869679689407349,0.47597062587738037,1.3130830526351929,0.5502851605415344,1.4364911317825317,0.7577442526817322,0.6918279528617859,1.3895503282546997,0.9876636266708374,0.23064421117305756,-0.10022921860218048,1.1206872463226318,-0.21527394652366638,0.10653860121965408,-1.2069650888442993,-0.24032074213027954,0.25534629821777344,0.20574608445167542,-0.5044240355491638,0.23056809604167938,-1.0518428087234497,-2.8901162147521973,-1.4521024227142334,-1.2065751552581787,0.7213228344917297,-2.153076410293579,-0.6793597936630249,1.407631754875183,0.1274203658103943,-2.488987684249878,-1.1523171663284302,-1.1718478202819824,0.1522088348865509,-0.07602029293775558,-0.9794080853462219,0.1713491827249527,-0.8314604163169861,-0.12615761160850525,-0.6963605284690857,-0.9258870482444763,0.9785414934158325,-0.3667318820953369,0.29659703373908997,-1.040975570678711,0.758603572845459,0.5829516053199768,-0.8094185590744019,-1.013715147972107,-1.0353198051452637,-0.3312813639640808,-0.003193626645952463,-0.4662471115589142,-0.6050768494606018,-0.5225647687911987,1.2485371828079224,0.31404054164886475,-1.0328469276428223,-1.2780085802078247,0.2638626992702484,0.9211733937263489,1.1956126689910889,-0.034817472100257874,-0.3070383369922638,0.6616839170455933,0.4699554145336151,0.4370574951171875,0.259513795375824,0.3984028100967407,-0.026022447273135185,0.8903512358665466,0.6135849356651306,3.4305336475372314,0.9285188913345337,-1.7258350849151611,-0.8374295234680176,-0.061595331877470016,-0.8999075293540955,0.45796677470207214,-0.27372637391090393,0.8697330355644226,1.3633188009262085,1.2051104307174683,0.2390340268611908,1.166131615638733,3.5767202377319336,3.790332317352295,1.0546956062316895,1.272885799407959,-0.2192767858505249,0.6869759559631348,1.478778600692749,-1.5017156600952148,-0.3081991374492645,-0.4087764322757721,0.0485219731926918,-0.8567711710929871,-0.7403943538665771,-0.00906829908490181,0.545482337474823,-0.07134683430194855,-0.7488056421279907,-0.8793461918830872,-0.3714366555213928,-1.0362262725830078,0.6711481213569641,0.3188345730304718,0.27568143606185913,1.1281636953353882,1.049910068511963,0.6273598670959473,0.471151739358902,-0.05226651951670647,0.3869682252407074,-0.18940050899982452,0.6683898568153381,-0.663043200969696,1.2688413858413696,1.324727177619934,-0.4828399419784546,0.9353348612785339,0.7543160319328308,0.9806497097015381,-1.1652789115905762,-0.8978886008262634,-0.27423104643821716,0.015482408925890923,0.5807904005050659,-0.18433606624603271,0.29531851410865784,-0.38959401845932007,0.5884965658187866,-0.21706639230251312,-0.12517200410366058,0.01802843064069748,1.0585265159606934,0.34949517250061035,0.31203189492225647,-0.688285231590271,0.5969045758247375]}],\"hovertemplate\":\"%{xaxis.title.text}=%{x}<br>%{yaxis.title.text}=%{y}<br>color=%{marker.color}<extra></extra>\",\"legendgroup\":\"\",\"marker\":{\"color\":[1,1,1,1,1,1,1,1,1,1,1,1,1,1,1,1,1,1,1,1,1,1,1,1,1,1,1,1,1,1,1,1,1,1,1,1,1,1,1,1,1,1,1,1,1,1,1,1,1,1,1,1,1,1,1,1,1,1,1,2,2,2,2,2,2,2,2,2,2,2,2,2,2,2,2,2,2,2,2,2,2,2,2,2,2,2,2,2,2,2,2,2,2,2,2,2,2,2,2,2,2,2,2,2,2,2,2,2,2,2,2,2,2,2,2,2,2,2,2,2,2,2,2,2,2,2,2,2,2,2,3,3,3,3,3,3,3,3,3,3,3,3,3,3,3,3,3,3,3,3,3,3,3,3,3,3,3,3,3,3,3,3,3,3,3,3,3,3,3,3,3,3,3,3,3,3,3,3],\"coloraxis\":\"coloraxis\",\"symbol\":\"circle\"},\"name\":\"\",\"showlegend\":false,\"type\":\"splom\",\"diagonal\":{\"visible\":false}}],                        {\"template\":{\"data\":{\"histogram2dcontour\":[{\"type\":\"histogram2dcontour\",\"colorbar\":{\"outlinewidth\":0,\"ticks\":\"\"},\"colorscale\":[[0.0,\"#0d0887\"],[0.1111111111111111,\"#46039f\"],[0.2222222222222222,\"#7201a8\"],[0.3333333333333333,\"#9c179e\"],[0.4444444444444444,\"#bd3786\"],[0.5555555555555556,\"#d8576b\"],[0.6666666666666666,\"#ed7953\"],[0.7777777777777778,\"#fb9f3a\"],[0.8888888888888888,\"#fdca26\"],[1.0,\"#f0f921\"]]}],\"choropleth\":[{\"type\":\"choropleth\",\"colorbar\":{\"outlinewidth\":0,\"ticks\":\"\"}}],\"histogram2d\":[{\"type\":\"histogram2d\",\"colorbar\":{\"outlinewidth\":0,\"ticks\":\"\"},\"colorscale\":[[0.0,\"#0d0887\"],[0.1111111111111111,\"#46039f\"],[0.2222222222222222,\"#7201a8\"],[0.3333333333333333,\"#9c179e\"],[0.4444444444444444,\"#bd3786\"],[0.5555555555555556,\"#d8576b\"],[0.6666666666666666,\"#ed7953\"],[0.7777777777777778,\"#fb9f3a\"],[0.8888888888888888,\"#fdca26\"],[1.0,\"#f0f921\"]]}],\"heatmap\":[{\"type\":\"heatmap\",\"colorbar\":{\"outlinewidth\":0,\"ticks\":\"\"},\"colorscale\":[[0.0,\"#0d0887\"],[0.1111111111111111,\"#46039f\"],[0.2222222222222222,\"#7201a8\"],[0.3333333333333333,\"#9c179e\"],[0.4444444444444444,\"#bd3786\"],[0.5555555555555556,\"#d8576b\"],[0.6666666666666666,\"#ed7953\"],[0.7777777777777778,\"#fb9f3a\"],[0.8888888888888888,\"#fdca26\"],[1.0,\"#f0f921\"]]}],\"heatmapgl\":[{\"type\":\"heatmapgl\",\"colorbar\":{\"outlinewidth\":0,\"ticks\":\"\"},\"colorscale\":[[0.0,\"#0d0887\"],[0.1111111111111111,\"#46039f\"],[0.2222222222222222,\"#7201a8\"],[0.3333333333333333,\"#9c179e\"],[0.4444444444444444,\"#bd3786\"],[0.5555555555555556,\"#d8576b\"],[0.6666666666666666,\"#ed7953\"],[0.7777777777777778,\"#fb9f3a\"],[0.8888888888888888,\"#fdca26\"],[1.0,\"#f0f921\"]]}],\"contourcarpet\":[{\"type\":\"contourcarpet\",\"colorbar\":{\"outlinewidth\":0,\"ticks\":\"\"}}],\"contour\":[{\"type\":\"contour\",\"colorbar\":{\"outlinewidth\":0,\"ticks\":\"\"},\"colorscale\":[[0.0,\"#0d0887\"],[0.1111111111111111,\"#46039f\"],[0.2222222222222222,\"#7201a8\"],[0.3333333333333333,\"#9c179e\"],[0.4444444444444444,\"#bd3786\"],[0.5555555555555556,\"#d8576b\"],[0.6666666666666666,\"#ed7953\"],[0.7777777777777778,\"#fb9f3a\"],[0.8888888888888888,\"#fdca26\"],[1.0,\"#f0f921\"]]}],\"surface\":[{\"type\":\"surface\",\"colorbar\":{\"outlinewidth\":0,\"ticks\":\"\"},\"colorscale\":[[0.0,\"#0d0887\"],[0.1111111111111111,\"#46039f\"],[0.2222222222222222,\"#7201a8\"],[0.3333333333333333,\"#9c179e\"],[0.4444444444444444,\"#bd3786\"],[0.5555555555555556,\"#d8576b\"],[0.6666666666666666,\"#ed7953\"],[0.7777777777777778,\"#fb9f3a\"],[0.8888888888888888,\"#fdca26\"],[1.0,\"#f0f921\"]]}],\"mesh3d\":[{\"type\":\"mesh3d\",\"colorbar\":{\"outlinewidth\":0,\"ticks\":\"\"}}],\"scatter\":[{\"fillpattern\":{\"fillmode\":\"overlay\",\"size\":10,\"solidity\":0.2},\"type\":\"scatter\"}],\"parcoords\":[{\"type\":\"parcoords\",\"line\":{\"colorbar\":{\"outlinewidth\":0,\"ticks\":\"\"}}}],\"scatterpolargl\":[{\"type\":\"scatterpolargl\",\"marker\":{\"colorbar\":{\"outlinewidth\":0,\"ticks\":\"\"}}}],\"bar\":[{\"error_x\":{\"color\":\"#2a3f5f\"},\"error_y\":{\"color\":\"#2a3f5f\"},\"marker\":{\"line\":{\"color\":\"#E5ECF6\",\"width\":0.5},\"pattern\":{\"fillmode\":\"overlay\",\"size\":10,\"solidity\":0.2}},\"type\":\"bar\"}],\"scattergeo\":[{\"type\":\"scattergeo\",\"marker\":{\"colorbar\":{\"outlinewidth\":0,\"ticks\":\"\"}}}],\"scatterpolar\":[{\"type\":\"scatterpolar\",\"marker\":{\"colorbar\":{\"outlinewidth\":0,\"ticks\":\"\"}}}],\"histogram\":[{\"marker\":{\"pattern\":{\"fillmode\":\"overlay\",\"size\":10,\"solidity\":0.2}},\"type\":\"histogram\"}],\"scattergl\":[{\"type\":\"scattergl\",\"marker\":{\"colorbar\":{\"outlinewidth\":0,\"ticks\":\"\"}}}],\"scatter3d\":[{\"type\":\"scatter3d\",\"line\":{\"colorbar\":{\"outlinewidth\":0,\"ticks\":\"\"}},\"marker\":{\"colorbar\":{\"outlinewidth\":0,\"ticks\":\"\"}}}],\"scattermapbox\":[{\"type\":\"scattermapbox\",\"marker\":{\"colorbar\":{\"outlinewidth\":0,\"ticks\":\"\"}}}],\"scatterternary\":[{\"type\":\"scatterternary\",\"marker\":{\"colorbar\":{\"outlinewidth\":0,\"ticks\":\"\"}}}],\"scattercarpet\":[{\"type\":\"scattercarpet\",\"marker\":{\"colorbar\":{\"outlinewidth\":0,\"ticks\":\"\"}}}],\"carpet\":[{\"aaxis\":{\"endlinecolor\":\"#2a3f5f\",\"gridcolor\":\"white\",\"linecolor\":\"white\",\"minorgridcolor\":\"white\",\"startlinecolor\":\"#2a3f5f\"},\"baxis\":{\"endlinecolor\":\"#2a3f5f\",\"gridcolor\":\"white\",\"linecolor\":\"white\",\"minorgridcolor\":\"white\",\"startlinecolor\":\"#2a3f5f\"},\"type\":\"carpet\"}],\"table\":[{\"cells\":{\"fill\":{\"color\":\"#EBF0F8\"},\"line\":{\"color\":\"white\"}},\"header\":{\"fill\":{\"color\":\"#C8D4E3\"},\"line\":{\"color\":\"white\"}},\"type\":\"table\"}],\"barpolar\":[{\"marker\":{\"line\":{\"color\":\"#E5ECF6\",\"width\":0.5},\"pattern\":{\"fillmode\":\"overlay\",\"size\":10,\"solidity\":0.2}},\"type\":\"barpolar\"}],\"pie\":[{\"automargin\":true,\"type\":\"pie\"}]},\"layout\":{\"autotypenumbers\":\"strict\",\"colorway\":[\"#636efa\",\"#EF553B\",\"#00cc96\",\"#ab63fa\",\"#FFA15A\",\"#19d3f3\",\"#FF6692\",\"#B6E880\",\"#FF97FF\",\"#FECB52\"],\"font\":{\"color\":\"#2a3f5f\"},\"hovermode\":\"closest\",\"hoverlabel\":{\"align\":\"left\"},\"paper_bgcolor\":\"white\",\"plot_bgcolor\":\"#E5ECF6\",\"polar\":{\"bgcolor\":\"#E5ECF6\",\"angularaxis\":{\"gridcolor\":\"white\",\"linecolor\":\"white\",\"ticks\":\"\"},\"radialaxis\":{\"gridcolor\":\"white\",\"linecolor\":\"white\",\"ticks\":\"\"}},\"ternary\":{\"bgcolor\":\"#E5ECF6\",\"aaxis\":{\"gridcolor\":\"white\",\"linecolor\":\"white\",\"ticks\":\"\"},\"baxis\":{\"gridcolor\":\"white\",\"linecolor\":\"white\",\"ticks\":\"\"},\"caxis\":{\"gridcolor\":\"white\",\"linecolor\":\"white\",\"ticks\":\"\"}},\"coloraxis\":{\"colorbar\":{\"outlinewidth\":0,\"ticks\":\"\"}},\"colorscale\":{\"sequential\":[[0.0,\"#0d0887\"],[0.1111111111111111,\"#46039f\"],[0.2222222222222222,\"#7201a8\"],[0.3333333333333333,\"#9c179e\"],[0.4444444444444444,\"#bd3786\"],[0.5555555555555556,\"#d8576b\"],[0.6666666666666666,\"#ed7953\"],[0.7777777777777778,\"#fb9f3a\"],[0.8888888888888888,\"#fdca26\"],[1.0,\"#f0f921\"]],\"sequentialminus\":[[0.0,\"#0d0887\"],[0.1111111111111111,\"#46039f\"],[0.2222222222222222,\"#7201a8\"],[0.3333333333333333,\"#9c179e\"],[0.4444444444444444,\"#bd3786\"],[0.5555555555555556,\"#d8576b\"],[0.6666666666666666,\"#ed7953\"],[0.7777777777777778,\"#fb9f3a\"],[0.8888888888888888,\"#fdca26\"],[1.0,\"#f0f921\"]],\"diverging\":[[0,\"#8e0152\"],[0.1,\"#c51b7d\"],[0.2,\"#de77ae\"],[0.3,\"#f1b6da\"],[0.4,\"#fde0ef\"],[0.5,\"#f7f7f7\"],[0.6,\"#e6f5d0\"],[0.7,\"#b8e186\"],[0.8,\"#7fbc41\"],[0.9,\"#4d9221\"],[1,\"#276419\"]]},\"xaxis\":{\"gridcolor\":\"white\",\"linecolor\":\"white\",\"ticks\":\"\",\"title\":{\"standoff\":15},\"zerolinecolor\":\"white\",\"automargin\":true,\"zerolinewidth\":2},\"yaxis\":{\"gridcolor\":\"white\",\"linecolor\":\"white\",\"ticks\":\"\",\"title\":{\"standoff\":15},\"zerolinecolor\":\"white\",\"automargin\":true,\"zerolinewidth\":2},\"scene\":{\"xaxis\":{\"backgroundcolor\":\"#E5ECF6\",\"gridcolor\":\"white\",\"linecolor\":\"white\",\"showbackground\":true,\"ticks\":\"\",\"zerolinecolor\":\"white\",\"gridwidth\":2},\"yaxis\":{\"backgroundcolor\":\"#E5ECF6\",\"gridcolor\":\"white\",\"linecolor\":\"white\",\"showbackground\":true,\"ticks\":\"\",\"zerolinecolor\":\"white\",\"gridwidth\":2},\"zaxis\":{\"backgroundcolor\":\"#E5ECF6\",\"gridcolor\":\"white\",\"linecolor\":\"white\",\"showbackground\":true,\"ticks\":\"\",\"zerolinecolor\":\"white\",\"gridwidth\":2}},\"shapedefaults\":{\"line\":{\"color\":\"#2a3f5f\"}},\"annotationdefaults\":{\"arrowcolor\":\"#2a3f5f\",\"arrowhead\":0,\"arrowwidth\":1},\"geo\":{\"bgcolor\":\"white\",\"landcolor\":\"#E5ECF6\",\"subunitcolor\":\"white\",\"showland\":true,\"showlakes\":true,\"lakecolor\":\"white\"},\"title\":{\"x\":0.05},\"mapbox\":{\"style\":\"light\"}}},\"coloraxis\":{\"colorbar\":{\"title\":{\"text\":\"color\"}},\"colorscale\":[[0.0,\"#0d0887\"],[0.1111111111111111,\"#46039f\"],[0.2222222222222222,\"#7201a8\"],[0.3333333333333333,\"#9c179e\"],[0.4444444444444444,\"#bd3786\"],[0.5555555555555556,\"#d8576b\"],[0.6666666666666666,\"#ed7953\"],[0.7777777777777778,\"#fb9f3a\"],[0.8888888888888888,\"#fdca26\"],[1.0,\"#f0f921\"]]},\"legend\":{\"tracegroupgap\":0},\"margin\":{\"t\":60},\"dragmode\":\"select\"},                        {\"responsive\": true}                    ).then(function(){\n",
              "                            \n",
              "var gd = document.getElementById('b4c41b96-2a9a-4987-ac97-1d580a4c6f06');\n",
              "var x = new MutationObserver(function (mutations, observer) {{\n",
              "        var display = window.getComputedStyle(gd).display;\n",
              "        if (!display || display === 'none') {{\n",
              "            console.log([gd, 'removed!']);\n",
              "            Plotly.purge(gd);\n",
              "            observer.disconnect();\n",
              "        }}\n",
              "}});\n",
              "\n",
              "// Listen for the removal of the full notebook cells\n",
              "var notebookContainer = gd.closest('#notebook-container');\n",
              "if (notebookContainer) {{\n",
              "    x.observe(notebookContainer, {childList: true});\n",
              "}}\n",
              "\n",
              "// Listen for the clearing of the current output cell\n",
              "var outputEl = gd.closest('.output');\n",
              "if (outputEl) {{\n",
              "    x.observe(outputEl, {childList: true});\n",
              "}}\n",
              "\n",
              "                        })                };                            </script>        </div>\n",
              "</body>\n",
              "</html>"
            ]
          },
          "metadata": {}
        }
      ]
    },
    {
      "cell_type": "markdown",
      "metadata": {
        "id": "AXT-3PXcJMcb"
      },
      "source": [
        "## Eigenfaces\n",
        "\n",
        "If we treat images as vectors, a dataset of persons could reveal the \"principal\" faces.\n"
      ]
    },
    {
      "cell_type": "code",
      "metadata": {
        "id": "sTSmjgBhGmK2",
        "outputId": "c282502e-83a9-4d4d-b3ad-bccda2151ddb",
        "colab": {
          "base_uri": "https://localhost:8080/",
          "height": 34
        }
      },
      "source": [
        "from sklearn.datasets import fetch_lfw_people\n",
        "\n",
        "data = fetch_lfw_people(min_faces_per_person=70, resize=0.4)\n",
        "print('dataset:', data.images.shape)"
      ],
      "execution_count": null,
      "outputs": [
        {
          "output_type": "stream",
          "text": [
            "dataset: (1288, 50, 37)\n"
          ],
          "name": "stdout"
        }
      ]
    },
    {
      "cell_type": "code",
      "metadata": {
        "id": "2X2ZurssHTwC",
        "outputId": "c3dfd847-f548-4f67-aeb9-c6f8ec0469a1",
        "colab": {
          "base_uri": "https://localhost:8080/",
          "height": 284
        }
      },
      "source": [
        "# example\n",
        "plt.imshow(data.images[0], cmap='gray')"
      ],
      "execution_count": null,
      "outputs": [
        {
          "output_type": "execute_result",
          "data": {
            "text/plain": [
              "<matplotlib.image.AxesImage at 0x7f7b6ce5c0b8>"
            ]
          },
          "metadata": {
            "tags": []
          },
          "execution_count": 34
        },
        {
          "output_type": "display_data",
          "data": {
            "image/png": "[encoded data removed]",
            "text/plain": [
              "<Figure size 432x288 with 1 Axes>"
            ]
          },
          "metadata": {
            "tags": [],
            "needs_background": "light"
          }
        }
      ]
    },
    {
      "cell_type": "code",
      "metadata": {
        "id": "ZpkgDRu8Hjap"
      },
      "source": [
        "# flatten the image into vector\n",
        "X = data.images.reshape(1288, -1)"
      ],
      "execution_count": null,
      "outputs": []
    },
    {
      "cell_type": "code",
      "metadata": {
        "id": "3pcwqsrOHacj",
        "outputId": "b42b184c-36f3-4ef1-f63c-986ba14d5205",
        "colab": {
          "base_uri": "https://localhost:8080/",
          "height": 52
        }
      },
      "source": [
        "from sklearn.decomposition import PCA\n",
        "# find 5 faces\n",
        "pca = PCA(n_components=5)\n",
        "pca.fit(X)"
      ],
      "execution_count": null,
      "outputs": [
        {
          "output_type": "execute_result",
          "data": {
            "text/plain": [
              "PCA(copy=True, iterated_power='auto', n_components=5, random_state=None,\n",
              "    svd_solver='auto', tol=0.0, whiten=False)"
            ]
          },
          "metadata": {
            "tags": []
          },
          "execution_count": 36
        }
      ]
    },
    {
      "cell_type": "code",
      "metadata": {
        "id": "UVWE_x9SHhSZ",
        "outputId": "9a623461-e043-4baa-a9ad-ae9ddbf8c1a1",
        "colab": {
          "base_uri": "https://localhost:8080/",
          "height": 34
        }
      },
      "source": [
        "# these are the eigenvectors\n",
        "eivec = pca.components_\n",
        "print('eigenvec:', eivec.shape)"
      ],
      "execution_count": null,
      "outputs": [
        {
          "output_type": "stream",
          "text": [
            "eigenvec: (5, 1850)\n"
          ],
          "name": "stdout"
        }
      ]
    },
    {
      "cell_type": "code",
      "metadata": {
        "id": "35NzbjQjITqV",
        "outputId": "c984251d-ecd6-4708-be38-4cec865ff02d",
        "colab": {
          "base_uri": "https://localhost:8080/",
          "height": 34
        }
      },
      "source": [
        "print('each explain the variance of the dataset by:', pca.explained_variance_ratio_)"
      ],
      "execution_count": null,
      "outputs": [
        {
          "output_type": "stream",
          "text": [
            "each explain the variance of the dataset by: [0.18831739 0.15066978 0.07269006 0.0603476  0.051404  ]\n"
          ],
          "name": "stdout"
        }
      ]
    },
    {
      "cell_type": "code",
      "metadata": {
        "id": "0rXpl3KUH7qi",
        "outputId": "11f1e058-25da-4366-cf74-95d8436b9b56",
        "colab": {
          "base_uri": "https://localhost:8080/",
          "height": 304
        }
      },
      "source": [
        "fig, ax = plt.subplots(ncols=len(eivec), figsize=(3.7*(len(eivec)), 5))\n",
        "for i in range(len(eivec)):\n",
        "  v = eivec[i]\n",
        "  ratio = pca.explained_variance_ratio_[i]\n",
        "  ax[i].set_title(f'Explained {ratio:.2f}%')\n",
        "  ax[i].imshow(v.reshape(50, 37), cmap='gray')"
      ],
      "execution_count": null,
      "outputs": [
        {
          "output_type": "display_data",
          "data": {
            "image/png": "[encoded data removed]",
            "text/plain": [
              "<Figure size 1332x360 with 5 Axes>"
            ]
          },
          "metadata": {
            "tags": [],
            "needs_background": "light"
          }
        }
      ]
    },
    {
      "cell_type": "code",
      "metadata": {
        "id": "TjhtrHq0X0cO"
      },
      "source": [],
      "execution_count": null,
      "outputs": []
    }
  ]
}