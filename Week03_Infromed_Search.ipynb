{
  "cells": [
    {
      "cell_type": "markdown",
      "metadata": {
        "id": "yJsyS6_pjF8v"
      },
      "source": [
        "# A Star 8 Puzzles"
      ]
    },
    {
      "cell_type": "markdown",
      "metadata": {
        "id": "7SPLlkGqemAw"
      },
      "source": [
        "## Homework\n",
        "ให้เลือกสถานะตั้งต้นของ 8-Puzzle มาหนึ่งอัน เปรียบเทียบจำนวน node ที่ถูก generate ขึ้นเมื่อใช้ h1 และ h2\n",
        "\n",
        "ให้นิสิตเขียน code แยกเป็นสอง cell โดย cell หนึ่งเป็น h1 และอีก cell เป็น h2 โดยทั้งสอง cell แสดงจำนวน node ที่ถูก generate ขึ้นจากการ search โดยใช้ h1 และ h2 เป็น heuristic"
      ]
    },
    {
      "cell_type": "markdown",
      "metadata": {
        "id": "YVxamT-JbbVE"
      },
      "source": [
        "## Original Code"
      ]
    },
    {
      "cell_type": "markdown",
      "metadata": {
        "id": "EyrwFpKafYNH"
      },
      "source": [
        "### **Informed Search**\n",
        "\n",
        "**h1 (state, cost)**\n",
        "\n",
        "  คำนวณค่า heuristic แบบ misplaced tile โดยนับจำนวนตัวเลขที่วางผิดตำแหน่งเมื่อเทียบกับ goal state\n",
        "\n",
        "**manhattan(state, goal, ind)**\n",
        "\n",
        "   คำนวณระยะห่าง Manhattan ระหว่างตำแหน่งปัจจุบันของตัวเลขที่ตำแหน่ง ind ใน state กับตำแหน่งที่ควรจะเป็นใน goal_state\n",
        "\n",
        "**h2 (state, cost)**\n",
        "\n",
        "\n",
        "คำนวณค่า heuristic แบบ total Manhattan distance โดยรวมระยะห่าง Manhattan ของทุกตัวเลขที่วางผิดตำแหน่ง\n",
        "\n",
        "**gen_successors(node)**\n",
        "\n",
        "สร้าง list ของ node ลูกที่เป็นไปได้ทั้งหมดจาก node ปัจจุบัน โดยพิจารณาการเคลื่อนที่ของช่องว่างไปใน 4 ทิศทาง (ขึ้น ลง ซ้าย ขวา)\n",
        "\n",
        "**is_goal(node)**\n",
        "\n",
        "ตรวจสอบว่า node ปัจจุบันตรงกับ goal state หรือไม่\n",
        "\n",
        "**insert_all(node, fringe)**\n",
        "\n",
        "สร้าง node ลูกจาก node ปัจจุบัน แล้วใส่ node ลูกเหล่านี้เข้าไปใน fringe โดยเรียงลำดับตามค่า f = g + h\n",
        "\n",
        "**show_result(g, visited_node)**\n",
        "\n",
        "แสดงลำดับขั้นตอนการแก้ปริศนาจาก node เริ่มต้นไปจนถึง goal state โดยไล่ย้อนกลับไปตาม parent node\n",
        "\n",
        "**a_star(start_node)**\n",
        "\n",
        "อัลกอริทึม A* search สำหรับแก้ปริศนา 8-Puzzle โดยใช้ heuristic ที่กำหนด\n"
      ]
    },
    {
      "cell_type": "code",
      "execution_count": null,
      "metadata": {
        "id": "LuuXryBmP9Vr"
      },
      "outputs": [],
      "source": [
        "last_index = 0\n",
        "visited_node = {}\n",
        "goal_state = '8123456780'\n",
        "total_nodes = 0\n",
        "total_expanded_nodes = 0\n",
        "\n",
        "## h1\n",
        "def h1(state,cost): # misplaced tile\n",
        "  count = 0\n",
        "  for i in range(1,10):\n",
        "    if state[i] == '0':\n",
        "      continue\n",
        "    if state[i] != goal_state[i]:\n",
        "      count += 1\n",
        "  return count+cost\n",
        "\n",
        "def manhattan(state,goal,ind):\n",
        "  j = goal[1:].find(state[ind+1])\n",
        "  rj = j//3\n",
        "  cj = j%3\n",
        "  ri = ind//3\n",
        "  ci = ind%3\n",
        "    # print(j,rj,cj,(i-1),ri,ci)\n",
        "  return abs(rj-ri) + abs(cj-ci)\n",
        "\n",
        "## h2\n",
        "def h2(state,cost): # total Manhattan distance\n",
        "  count = 0\n",
        "  for i in range(1,10):\n",
        "    if state[i] == '0':\n",
        "      continue\n",
        "    count += manhattan(state,goal_state,i-1)\n",
        "  return count + cost\n",
        "\n",
        "def gen_successors(node):\n",
        "    global last_index\n",
        "    node_id,level,cost,f = node[1],node[3],node[4],node[5]\n",
        "    ret = []\n",
        "    state = node[0]\n",
        "    loc = int(state[0])\n",
        "    puzzle = state[1:]\n",
        "    if loc % 3 != 0:\n",
        "        new_state = str(loc-1) + puzzle[:loc-1] + puzzle[loc] + puzzle[loc-1] + puzzle[loc+1:]\n",
        "        ret += [(new_state,last_index+1,node[1],level+1,cost+1,h1(new_state,cost+1))]\n",
        "        last_index += 1\n",
        "        # print('L'+new_state)\n",
        "    if (loc+1) % 3 != 0:\n",
        "        new_state = str(loc+1) + puzzle[:loc] + puzzle[loc+1] + puzzle[loc] + puzzle[loc+2:]\n",
        "        ret += [(new_state,last_index+1,node[1],level+1,cost+1,h1(new_state,cost+1))]\n",
        "        last_index += 1\n",
        "        # print('R'+new_state)\n",
        "    if loc >= 3:\n",
        "        new_state = str(loc-3) + puzzle[:loc-3] + puzzle[loc] + puzzle[loc-2:loc] + puzzle[loc-3] + puzzle[loc+1:]\n",
        "        ret += [(new_state,last_index+1,node[1],level+1,cost+1,h1(new_state,cost+1))]\n",
        "        last_index += 1\n",
        "        # print('U'+new_state)\n",
        "    if loc <= 5:\n",
        "        new_state = str(loc+3) + puzzle[:loc] + puzzle[loc+3] + puzzle[loc+1:loc+3] + puzzle[loc] + puzzle[loc+4:]\n",
        "        ret += [(new_state,last_index+1,node[1],level+1,cost+1,h1(new_state,cost+1))]\n",
        "        last_index += 1\n",
        "        # print('D'+new_state)\n",
        "    return ret\n",
        "\n",
        "def is_goal(node):\n",
        "    return node[0] == '8123456780'\n",
        "\n",
        "def insert_all(node,fringe):\n",
        "    global total_nodes\n",
        "    children = gen_successors(node)\n",
        "    total_nodes += len(children)\n",
        "    for child in children:\n",
        "      inserted = False\n",
        "      for j in range(len(fringe)):\n",
        "        if child[4]+child[5] < fringe[j][4]+fringe[j][5]:\n",
        "          fringe[j:j] = [child]\n",
        "          inserted = True\n",
        "          break\n",
        "      if not inserted:\n",
        "        fringe.append(child)\n",
        "    # print(fringe)\n",
        "\n",
        "def show_result(g,visited_node):\n",
        "    current_node = g\n",
        "    parent_index = current_node[1]\n",
        "    while True:\n",
        "        #print(current_node[0][1:4])\n",
        "        #print(current_node[0][4:7])\n",
        "        #print(current_node[0][7:])\n",
        "        #print()\n",
        "        parent_index = current_node[2]\n",
        "        if parent_index == -1:\n",
        "            break\n",
        "        current_node = visited_node[parent_index]\n",
        "\n",
        "def a_star(start_node):\n",
        "    global last_index\n",
        "    global visited_node\n",
        "    global total_expanded_nodes\n",
        "\n",
        "    last_index = 0\n",
        "    fringe = [start_node]\n",
        "    # print(fringe)\n",
        "    visited_node = {}\n",
        "    while True:\n",
        "        if len(fringe) == 0:\n",
        "            # print('Not Found')\n",
        "            break\n",
        "        front = fringe[0]\n",
        "        visited_node[front[1]] = front\n",
        "        fringe = fringe[1:]\n",
        "\n",
        "        total_expanded_nodes += 1\n",
        "        if is_goal(front):\n",
        "            show_result(front,visited_node)\n",
        "            return\n",
        "        insert_all(front,fringe)"
      ]
    },
    {
      "cell_type": "code",
      "execution_count": null,
      "metadata": {
        "colab": {
          "base_uri": "https://localhost:8080/"
        },
        "id": "L5M8dPjBi_7I",
        "outputId": "9d76d539-1f29-4494-e7f6-6f7c3bf40595"
      },
      "outputs": [
        {
          "output_type": "stream",
          "name": "stdout",
          "text": [
            "11738\n"
          ]
        }
      ],
      "source": [
        "a_star(('2170532486', 0, -1, 0, 0, 0)) # (state, node_id, parent_id, depth, cost, f) # 3135072486 1401852736\n",
        "print(total_expanded_nodes)"
      ]
    },
    {
      "cell_type": "code",
      "execution_count": null,
      "metadata": {
        "colab": {
          "base_uri": "https://localhost:8080/",
          "height": 35
        },
        "id": "F5hgRb_Mb1sd",
        "outputId": "6c0e9ef1-a7e5-49fd-fce5-afb2e971b36a"
      },
      "outputs": [
        {
          "output_type": "execute_result",
          "data": {
            "text/plain": [
              "'2170532486'"
            ],
            "application/vnd.google.colaboratory.intrinsic+json": {
              "type": "string"
            }
          },
          "metadata": {},
          "execution_count": 6
        }
      ],
      "source": [
        "('2170532486',0,-1,0,0,0)[0]"
      ]
    },
    {
      "cell_type": "markdown",
      "metadata": {
        "id": "p8tYQ2D9eZfx"
      },
      "source": [
        "### **gen_start function**"
      ]
    },
    {
      "cell_type": "markdown",
      "metadata": {
        "id": "_20tJrPRha5B"
      },
      "source": [
        "สร้างสถานะเริ่มต้น (start state) ของปริศนา 8-Puzzle แบบสุ่ม โดยเริ่มจากสถานะเป้าหมาย (goal state) แล้วทำการสลับตำแหน่งตัวเลขแบบสุ่มเป็นจำนวนครั้งตามที่กำหนด (step)"
      ]
    },
    {
      "cell_type": "code",
      "execution_count": null,
      "metadata": {
        "id": "LUOmfJjvMwRK",
        "colab": {
          "base_uri": "https://localhost:8080/",
          "height": 35
        },
        "outputId": "f5c27469-e44f-410c-ad33-1cdcb9a5b741"
      },
      "outputs": [
        {
          "output_type": "execute_result",
          "data": {
            "text/plain": [
              "'1102563478'"
            ],
            "application/vnd.google.colaboratory.intrinsic+json": {
              "type": "string"
            }
          },
          "metadata": {},
          "execution_count": 2
        }
      ],
      "source": [
        "import random\n",
        "\n",
        "def gen_start(state, step):\n",
        "  for i in range(step):\n",
        "    loc0 = int(state[0])\n",
        "    dir = random.randint(0, 3)\n",
        "    if dir == 0 and loc0 >= 3:\n",
        "      new_loc0 = loc0 - 3\n",
        "    elif dir == 1 and loc0 <= 5:\n",
        "      new_loc0 = loc0 + 3\n",
        "    elif dir == 2 and loc0%3 != 0:\n",
        "      new_loc0 = loc0 - 1\n",
        "    elif dir == 3 and (loc0+1)%3 != 0:\n",
        "      new_loc0 = loc0 + 1\n",
        "    else:\n",
        "      new_loc0 = loc0\n",
        "\n",
        "    newstate = list(state[1:])\n",
        "    newstate[loc0],newstate[new_loc0] = newstate[new_loc0],newstate[loc0]\n",
        "    newstate = str(new_loc0)+''.join(newstate)\n",
        "    state = newstate\n",
        "\n",
        "  return newstate\n",
        "\n",
        "goal_state = '8123456780'\n",
        "gen_start(goal_state, 60)"
      ]
    },
    {
      "cell_type": "markdown",
      "metadata": {
        "id": "MUJNe6D4dXqp"
      },
      "source": [
        "# FROM TA"
      ]
    },
    {
      "cell_type": "code",
      "execution_count": null,
      "metadata": {
        "colab": {
          "base_uri": "https://localhost:8080/"
        },
        "id": "nlG58E-rc43B",
        "outputId": "e4219bbd-f37e-4c51-eda3-b3d4360cb657"
      },
      "outputs": [
        {
          "output_type": "stream",
          "name": "stdout",
          "text": [
            "Results using h1 heuristic:\n",
            "Total expanded nodes: 11738\n",
            "Total nodes generated: 32803\n"
          ]
        }
      ],
      "source": [
        "start_state = '2170532486'\n",
        "\n",
        "# Reset variables for h1\n",
        "last_index = 0\n",
        "visited_node = {}\n",
        "total_nodes = 0\n",
        "total_expanded_nodes = 0\n",
        "\n",
        "# A* Search with h1 (Misplaced Tiles) Heuristic\n",
        "a_star( ( start_state, 0, -1, 0, 0, h1(start_state, 0) ) )\n",
        "\n",
        "print(\"Results using h1 heuristic:\")\n",
        "print(\"Total expanded nodes:\", total_expanded_nodes) # 11738\n",
        "print(\"Total nodes generated:\", total_nodes) # 32803"
      ]
    },
    {
      "cell_type": "code",
      "execution_count": null,
      "metadata": {
        "colab": {
          "base_uri": "https://localhost:8080/"
        },
        "id": "JoucYQmcdQIy",
        "outputId": "9f4e4b81-712e-4958-d025-d0956790145d"
      },
      "outputs": [
        {
          "output_type": "stream",
          "name": "stdout",
          "text": [
            "Results using h2 heuristic:\n",
            "Total expanded nodes: 11738\n",
            "Total nodes generated: 32803\n"
          ]
        }
      ],
      "source": [
        "# Reset variables for h2\n",
        "last_index = 0\n",
        "visited_node = {}\n",
        "total_nodes = 0\n",
        "total_expanded_nodes = 0\n",
        "\n",
        "# A* Search with h2 (Manhattan Distance) Heuristic\n",
        "a_star( ( start_state, 0, -1, 0, 0, h2(start_state, 0) ) )  # Use the same start_state\n",
        "\n",
        "print(\"Results using h2 heuristic:\")\n",
        "print(\"Total expanded nodes:\", total_expanded_nodes) #11738\n",
        "print(\"Total nodes generated:\", total_nodes) # 32803"
      ]
    },
    {
      "cell_type": "markdown",
      "metadata": {
        "id": "YJ-6CK6deyqF"
      },
      "source": [
        "## Test Case set"
      ]
    },
    {
      "cell_type": "code",
      "execution_count": null,
      "metadata": {
        "id": "UFn9gpNjc0Qy",
        "colab": {
          "base_uri": "https://localhost:8080/",
          "height": 35
        },
        "outputId": "25e9939c-1fe8-4c66-9595-d388758dde07"
      },
      "outputs": [
        {
          "output_type": "execute_result",
          "data": {
            "text/plain": [
              "'6451872063'"
            ],
            "application/vnd.google.colaboratory.intrinsic+json": {
              "type": "string"
            }
          },
          "metadata": {},
          "execution_count": 4
        }
      ],
      "source": [
        "start_state = gen_start(goal_state, 60)\n",
        "start_state"
      ]
    },
    {
      "cell_type": "code",
      "execution_count": null,
      "metadata": {
        "id": "cqkOREgqfpPd"
      },
      "outputs": [],
      "source": [
        "def h1_test(start_state):\n",
        "  # Reset variables for h1\n",
        "  last_index = 0\n",
        "  visited_node = {}\n",
        "  total_nodes = 0\n",
        "  total_expanded_nodes = 0\n",
        "\n",
        "  # A* Search with h1 (Misplaced Tiles) Heuristic\n",
        "  a_star((start_state, 0, -1, 0, 0, h1(start_state, 0)))\n",
        "\n",
        "  print(\"Results using h1 heuristic:\")\n",
        "  print(\"Total expanded nodes:\", total_expanded_nodes)\n",
        "  print(\"Total nodes generated:\", total_nodes)"
      ]
    },
    {
      "cell_type": "code",
      "execution_count": null,
      "metadata": {
        "id": "CFsYeRz2fifV"
      },
      "outputs": [],
      "source": [
        "def h2_test(start_state):\n",
        "  # Reset variables for h2\n",
        "  last_index = 0\n",
        "  visited_node = {}\n",
        "  total_nodes = 0\n",
        "  total_expanded_nodes = 0\n",
        "\n",
        "  # A* Search with h2 (Manhattan Distance) Heuristic\n",
        "  a_star((start_state, 0, -1, 0, 0, h2(start_state, 0)))  # Use the same start_state\n",
        "\n",
        "  print(\"\\nResults using h2 heuristic:\")\n",
        "  print(\"Total expanded nodes:\", total_expanded_nodes)\n",
        "  print(\"Total nodes generated:\", total_nodes)"
      ]
    },
    {
      "cell_type": "code",
      "execution_count": null,
      "metadata": {
        "id": "q9IRe_crfu6d",
        "colab": {
          "base_uri": "https://localhost:8080/"
        },
        "outputId": "e1613b94-8e10-461f-db57-dc23cc1019ec"
      },
      "outputs": [
        {
          "output_type": "stream",
          "name": "stdout",
          "text": [
            "6451872063\n",
            "Results using h1 heuristic:\n",
            "Total expanded nodes: 0\n",
            "Total nodes generated: 0\n",
            "\n",
            "Results using h2 heuristic:\n",
            "Total expanded nodes: 0\n",
            "Total nodes generated: 0\n"
          ]
        }
      ],
      "source": [
        "print(start_state)\n",
        "h1_test(start_state)\n",
        "h2_test(start_state)"
      ]
    },
    {
      "cell_type": "code",
      "source": [
        "## start_state = '5465310782'\n",
        "h1_test('5465310782')\n",
        "h2_test('5465310782')"
      ],
      "metadata": {
        "id": "hcatkjFArdH1"
      },
      "execution_count": null,
      "outputs": []
    },
    {
      "cell_type": "code",
      "source": [
        "# 1401852736\n",
        "h1_test('1401852736')\n",
        "h2_test('1401852736')"
      ],
      "metadata": {
        "id": "gMzPSsOCygzp"
      },
      "execution_count": null,
      "outputs": []
    },
    {
      "cell_type": "code",
      "source": [
        "# 3135072486\n",
        "h1_test('3135072486')\n",
        "h2_test('3135072486')"
      ],
      "metadata": {
        "id": "IX6JUvJyymAQ"
      },
      "execution_count": null,
      "outputs": []
    }
  ],
  "metadata": {
    "colab": {
      "provenance": [],
      "gpuType": "V28"
    },
    "kernelspec": {
      "display_name": "Python 3",
      "name": "python3"
    },
    "accelerator": "TPU"
  },
  "nbformat": 4,
  "nbformat_minor": 0
}
